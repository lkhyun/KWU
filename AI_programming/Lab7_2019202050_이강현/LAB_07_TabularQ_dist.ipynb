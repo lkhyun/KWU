{
  "cells": [
    {
      "cell_type": "markdown",
      "metadata": {
        "id": "lEFnL_N_QI4e"
      },
      "source": [
        "AI Programming - SW Lee"
      ]
    },
    {
      "cell_type": "markdown",
      "metadata": {
        "id": "S0pBSEL2QI4f"
      },
      "source": [
        "# Lab 07: Tabular Q Learning\n",
        "## Exercise: Frozen Lake, Taxi"
      ]
    },
    {
      "cell_type": "markdown",
      "metadata": {
        "id": "Z1E-hfx0QI4f"
      },
      "source": [
        "### Prepare Library Packages"
      ]
    },
    {
      "cell_type": "code",
      "execution_count": 1,
      "metadata": {
        "colab": {
          "base_uri": "https://localhost:8080/"
        },
        "id": "Pu4cSPdqQI4f",
        "outputId": "c1726e23-f63c-412b-f294-abffb653640c"
      },
      "outputs": [
        {
          "output_type": "stream",
          "name": "stdout",
          "text": [
            "Requirement already satisfied: gymnasium in /usr/local/lib/python3.10/dist-packages (1.0.0)\n",
            "Requirement already satisfied: numpy>=1.21.0 in /usr/local/lib/python3.10/dist-packages (from gymnasium) (1.26.4)\n",
            "Requirement already satisfied: cloudpickle>=1.2.0 in /usr/local/lib/python3.10/dist-packages (from gymnasium) (3.1.0)\n",
            "Requirement already satisfied: typing-extensions>=4.3.0 in /usr/local/lib/python3.10/dist-packages (from gymnasium) (4.12.2)\n",
            "Requirement already satisfied: farama-notifications>=0.0.1 in /usr/local/lib/python3.10/dist-packages (from gymnasium) (0.0.4)\n"
          ]
        }
      ],
      "source": [
        "# Check if this code runs in Colab\n",
        "RunningInCOLAB = 'google.colab' in str(get_ipython())\n",
        "# if in colab, Use reinforcement learning library gymnasium and tqdm\n",
        "if RunningInCOLAB:\n",
        "    !pip install gymnasium\n",
        "    from tqdm.notebook import tqdm\n",
        "else:\n",
        "    from tqdm import tqdm"
      ]
    },
    {
      "cell_type": "code",
      "execution_count": 2,
      "metadata": {
        "id": "Tkr9HQUkQI4g"
      },
      "outputs": [],
      "source": [
        "#import numpy, matplotlib, gymnasium\n",
        "import numpy as np\n",
        "import matplotlib.pyplot as plt\n",
        "\n",
        "import gymnasium as gym # name gymnasium as gym\n",
        "from gymnasium import wrappers # for making video"
      ]
    },
    {
      "cell_type": "code",
      "execution_count": 3,
      "metadata": {
        "colab": {
          "base_uri": "https://localhost:8080/",
          "height": 35
        },
        "id": "s6R4-uFjQI4g",
        "outputId": "a157b371-cae4-4b5a-f017-39e0ee6f1b5d"
      },
      "outputs": [
        {
          "output_type": "execute_result",
          "data": {
            "text/plain": [
              "'1.0.0'"
            ],
            "application/vnd.google.colaboratory.intrinsic+json": {
              "type": "string"
            }
          },
          "metadata": {},
          "execution_count": 3
        }
      ],
      "source": [
        "gym.__version__ #gymnasium library version"
      ]
    },
    {
      "cell_type": "markdown",
      "metadata": {
        "id": "ziCk-TZSQI4g"
      },
      "source": [
        "### Select Environment"
      ]
    },
    {
      "cell_type": "markdown",
      "metadata": {
        "id": "thJnGZ2IQI4g"
      },
      "source": [
        "**Frozen Lake**<br>\n",
        "https://gymnasium.farama.org/environments/toy_text/frozen_lake/\n",
        "\n",
        "\n",
        "**Taxi**<br>\n",
        "https://gymnasium.farama.org/environments/toy_text/taxi/\n",
        "\n",
        "**Blackjack**<br>\n",
        "https://gymnasium.farama.org/environments/toy_text/blackjack/"
      ]
    },
    {
      "cell_type": "code",
      "execution_count": 4,
      "metadata": {
        "id": "LdEtQfLOQI4g"
      },
      "outputs": [],
      "source": [
        "# select environment\n",
        "# Text Game:    0 for FrozenLake 4x4, 1 for Taxi, 2 for Blackjack\n",
        "\n",
        "SELECT_ENV = 1"
      ]
    },
    {
      "cell_type": "code",
      "execution_count": 5,
      "metadata": {
        "id": "p-Q1zEUBQI4g"
      },
      "outputs": [],
      "source": [
        "#classification environments\n",
        "if SELECT_ENV == 0: # Case FrozenLake\n",
        "    env_name, res_prefix = 'FrozenLake-v1', 'lak4' # set environment and save prefix\n",
        "    #set hyperparameters in FrozenLake learning\n",
        "    max_episodes, max_ep_steps, goal_score = 3000, 500, 0.8\n",
        "    val_ep_num, lr_rate, discount_rate = 20, 0.8, 0.95\n",
        "elif SELECT_ENV == 1: # Case Taxi\n",
        "    env_name, res_prefix = 'Taxi-v3', 'taxi' # set environment and save prefix\n",
        "    #set hyperparameters in Taxi learning\n",
        "    max_episodes, max_ep_steps, goal_score = 1000, 500, 8.0\n",
        "    val_ep_num, lr_rate, discount_rate = 20, 0.8, 0.95\n",
        "elif SELECT_ENV == 2: # Case Blackjack\n",
        "    env_name, res_prefix = 'Blackjack-v1', 'blkj' # set environment and save prefix\n",
        "    #set hyperparameters in Blackjack learning\n",
        "    max_episodes, max_ep_steps, goal_score = 5000, 10, -0.05\n",
        "    val_ep_num, lr_rate, discount_rate = 1000, 0.1, 0.95\n",
        "else: assert False, 'environment selection error' # If it is not a case of 0, 1, 2\n",
        "# create environment\n",
        "def create_env():\n",
        "    if   SELECT_ENV == 0: # Forzen Lake\n",
        "        env = gym.make(env_name, desc=None, map_name='4x4', is_slippery=True, render_mode='rgb_array') #make FrozenLake environment\n",
        "    elif   SELECT_ENV == 1: # Taxi\n",
        "        env = gym.make(env_name, render_mode='rgb_array') #make Taxi environment\n",
        "    elif   SELECT_ENV == 2: # Blackjack\n",
        "        env = gym.make(env_name, natural=False, sab=False, render_mode='rgb_array') #make Blackjack environment\n",
        "    else: pass\n",
        "    return env"
      ]
    },
    {
      "cell_type": "code",
      "execution_count": 6,
      "metadata": {
        "id": "Z-wJR7paQI4h"
      },
      "outputs": [],
      "source": [
        "#define enviroment function\n",
        "def env_reset(env): # initialize observation\n",
        "    observation = env.reset() #environment reset\n",
        "    obs = observation[0] if type(observation)==tuple else observation # observation space is tuple or one value\n",
        "    if SELECT_ENV == 2: # if blackjack\n",
        "        state = obs[0] + 32 * obs[2] + 64 * obs[1] #observation space has 3-tuple, player's current sum, dealer's one showing card, whether player holds usable ace\n",
        "    else: state = obs # else just select one value\n",
        "    return state\n",
        "\n",
        "def env_step(env, action):\n",
        "    observation = env.step(action) # Observation according to action, order -> observation, reward,  terminate, trucated, info\n",
        "    if SELECT_ENV == 2:\n",
        "        state = observation[0][0] + 32 * observation[0][2] + 64 * observation[0][1] #blackjack state has 3-tuple\n",
        "    else: state = observation[0]\n",
        "    reward = observation[1] # reward\n",
        "    done = observation[2] or observation[3] if len(observation)>4 else observation[2] # Generally, only the terminate argument is given, but consider the case where there is an additional argument indicating the termination status.\n",
        "    return state, reward, done"
      ]
    },
    {
      "cell_type": "code",
      "execution_count": 7,
      "metadata": {
        "id": "R_LuixrEQI4h"
      },
      "outputs": [],
      "source": [
        "# Create variables based on defined functions\n",
        "env = create_env()\n",
        "state = env_reset(env)\n",
        "state, reward, done = env_step(env, env.action_space.sample())"
      ]
    },
    {
      "cell_type": "markdown",
      "metadata": {
        "id": "Y5cxXuk6QI4h"
      },
      "source": [
        "### Check and Show Environment Variables"
      ]
    },
    {
      "cell_type": "code",
      "execution_count": 8,
      "metadata": {
        "id": "JJi2Mi_rQI4h"
      },
      "outputs": [],
      "source": [
        "# Data processing according to action space\n",
        "action_shape = env.action_space.shape\n",
        "action_space_type = type(env.action_space)\n",
        "\n",
        "if action_space_type==gym.spaces.discrete.Discrete: # FrozenLake, Taxi, Blackjack\n",
        "    actn_space = 'DISCRETE'\n",
        "    action_shape = (1,)\n",
        "    action_dims = 1\n",
        "    action_range = env.action_space.n\n",
        "    num_actions = action_range  # number of actions is action range for DISCRETE actions\n",
        "    action_batch_shape = (None, action_range)\n",
        "elif action_space_type==gym.spaces.box.Box: # Additionally, for action space in box2d format.\n",
        "    actn_space = 'CONTINUOUS'\n",
        "    action_dims = action_shape[0]\n",
        "    actn_uppr_bound = env.action_space.high[0]\n",
        "    actn_lowr_bound = env.action_space.low[0]\n",
        "    action_range = (actn_uppr_bound - actn_lowr_bound) # x0.5 for tanh output\n",
        "    action_batch_shape = tuple([None]+[x for x in action_shape])\n",
        "    num_actions = action_dims   # number of actions is action dimension for CONTINUOUS actions\n",
        "else: assert False, 'other action space type are not supported'\n",
        "\n",
        "# Data processing according to observation space\n",
        "observation_space_type = type(env.observation_space)\n",
        "observation_shape = env.observation_space.shape\n",
        "\n",
        "if observation_space_type==gym.spaces.discrete.Discrete: # FrozenLake, Taxi\n",
        "    observation_shape = (1,)\n",
        "    num_states = env.observation_space.n\n",
        "elif observation_space_type==gym.spaces.box.Box: # Additionally, for observation space in box2d format.\n",
        "    num_states = observation_shape[0]\n",
        "elif observation_space_type==gym.spaces.tuple.Tuple: #Blackjack\n",
        "    observation_shape = tuple([x.n for x in env.observation_space])\n",
        "    num_states = np.prod(observation_shape) #product\n",
        "else: print('observation space type error')\n",
        "\n",
        "if SELECT_ENV == 2: # blackjack state has just one value, player's current sum\n",
        "    state_shape = (1,)\n",
        "    state_batch_shape = (None,1)\n",
        "else:\n",
        "    state_shape = observation_shape\n",
        "    state_batch_shape = tuple([None]+[x for x in observation_shape])\n",
        "\n",
        "value_shape = (1,)\n",
        "num_values = 1"
      ]
    },
    {
      "cell_type": "code",
      "execution_count": 9,
      "metadata": {
        "colab": {
          "base_uri": "https://localhost:8080/"
        },
        "id": "yJHg-Qi8QI4h",
        "outputId": "f943748d-911d-4f81-c427-caeb8f13c6d0"
      },
      "outputs": [
        {
          "output_type": "stream",
          "name": "stdout",
          "text": [
            "Action space  <class 'gymnasium.spaces.discrete.Discrete'>\n",
            "Action shape  (1,)\n",
            "Action dimensions  1\n",
            "Action range  6\n",
            "Action batch shape  (None, 6)\n",
            "Observation space  <class 'gymnasium.spaces.discrete.Discrete'>\n",
            "Observation shape  (1,)\n",
            "Size of State Space  500\n",
            "State shape  (1,)\n",
            "State batch shape  (None, 1)\n",
            "Vallue shape  (1,)\n",
            "Value dimensions  1\n"
          ]
        }
      ],
      "source": [
        "# Description of current environment\n",
        "print('Action space ', action_space_type)\n",
        "print('Action shape ', action_shape)\n",
        "print('Action dimensions ', action_dims)\n",
        "print('Action range ', action_range)\n",
        "if action_space_type==gym.spaces.box.Box:\n",
        "    print('Max Value of Action ', actn_uppr_bound)\n",
        "    print('Min Value of Action ', actn_lowr_bound)\n",
        "else: pass\n",
        "print('Action batch shape ', action_batch_shape)\n",
        "\n",
        "print('Observation space ', observation_space_type)\n",
        "print('Observation shape ', observation_shape)\n",
        "print('Size of State Space ', num_states)\n",
        "print('State shape ', state_shape)\n",
        "print('State batch shape ', state_batch_shape)\n",
        "\n",
        "print('Vallue shape ', value_shape)\n",
        "print('Value dimensions ', num_values)"
      ]
    },
    {
      "cell_type": "markdown",
      "metadata": {
        "id": "DmV2JyqhQI4h"
      },
      "source": [
        "### Define and Initialize The Agent\n",
        "### **Exercise:** Define Q-table (Numpy)"
      ]
    },
    {
      "cell_type": "code",
      "execution_count": 10,
      "metadata": {
        "colab": {
          "base_uri": "https://localhost:8080/"
        },
        "id": "Y5Q_npeLQI4h",
        "outputId": "27d97e29-cbd3-49ec-b49d-9eee85240a97"
      },
      "outputs": [
        {
          "output_type": "stream",
          "name": "stdout",
          "text": [
            "(500, 6)\n"
          ]
        }
      ],
      "source": [
        "#define q-table for current environment\n",
        "### START CODE HERE ###\n",
        "\n",
        "Q_table = np.zeros((num_states,action_range))                          # define q-table\n",
        "\n",
        "###  END CODE HERE  ###\n",
        "\n",
        "print(Q_table.shape)"
      ]
    },
    {
      "cell_type": "markdown",
      "metadata": {
        "id": "zegLgKMgQI4h"
      },
      "source": [
        "### Define and Initialize Hyperparameters"
      ]
    },
    {
      "cell_type": "code",
      "execution_count": 11,
      "metadata": {
        "id": "U_JFIN8wQI4h"
      },
      "outputs": [],
      "source": [
        "#hyperparameter for train\n",
        "total_episodes = max_episodes   # Total episodes\n",
        "max_steps = max_ep_steps        # Max steps per episode\n",
        "learning_rate = lr_rate         # Learning rate\n",
        "gamma = discount_rate           # Discounting rate\n",
        "val_episodes = val_ep_num       # number of validation episodes\n"
      ]
    },
    {
      "cell_type": "markdown",
      "metadata": {
        "id": "VdVBktLYQI4h"
      },
      "source": [
        "### Define Epsilon Function\n",
        "\n",
        "This is an example of exponential decay epsilon function. One of easist epsilon decay functions is simply to multiply 0.9. You can define your own epsilon function."
      ]
    },
    {
      "cell_type": "code",
      "execution_count": 12,
      "metadata": {
        "id": "w4L6HZuFQI4h"
      },
      "outputs": [],
      "source": [
        "# Exploration parameters for epsilon greedy strategy\n",
        "class Epsilon:\n",
        "    def __init__(self, max_steps):\n",
        "        self.explore_start = 1.0            # exploration probability at start\n",
        "        self.explore_stop = 0.01            # minimum exploration probability\n",
        "        self.decay_rate = 20.0/max_steps    # exponential decay rate for exploration prob (4.6 ~ max_step = 0.01)\n",
        "        self.steps = 0\n",
        "\n",
        "    def get_epsilon(self):\n",
        "        eps = (self.explore_stop\n",
        "            + (self.explore_start - self.explore_stop) * np.exp(-self.decay_rate * self.steps))\n",
        "        self.steps += 1\n",
        "        return eps\n",
        "# The epsilon value gradually decreases over time, reducing the exploration rate."
      ]
    },
    {
      "cell_type": "markdown",
      "metadata": {
        "id": "uoMbTwiPQI4i"
      },
      "source": [
        "### Learning Procedures\n",
        "\n",
        "Q-learning is an off-policy TD control algorithm.\n",
        "\n",
        "$$ Q(s_t, a_t) \\leftarrow Q(s_t, a_t) + \\alpha (r_{t} + \\gamma \\max_{a} Q(s_{t+1},a) - Q(s_t,a_t) ) $$\n",
        "\n",
        "The target policy $\\pi$ is greedy w.r.t. $Q(s,a)$\n",
        "\n",
        "$$ \\pi (s_{t}) = \\arg \\max_{a^\\prime} Q(s_{t},a^\\prime) $$\n",
        "\n",
        "### **Exercise:** Define Training Loop and Evaluation Loop"
      ]
    },
    {
      "cell_type": "code",
      "execution_count": 13,
      "metadata": {
        "id": "9T-YmBLWQI4i"
      },
      "outputs": [],
      "source": [
        "#For policy evaluate\n",
        "def evaluate_policy(env, qtable, num_average, images=None):\n",
        "\n",
        "    total_reward = 0.0\n",
        "    total_steps = 0\n",
        "    episodes_to_play = num_average # Works as well as validation episode\n",
        "    for _ in range(episodes_to_play):                   # Play n episode and take the average\n",
        "        state = env_reset(env)\n",
        "        if images!=None: images.append(env.render()) #if image is not None, appending to list\n",
        "        done = False\n",
        "        episode_reward = 0.0\n",
        "        while not done:\n",
        "\n",
        "            ### START CODE HERE ###\n",
        "\n",
        "            action = np.argmax(qtable[state,:])                          # get an action from q-table\n",
        "            next_state, reward, done = env_step(env, action)             # take action and observe outcomes\n",
        "\n",
        "            ###  END CODE HERE  ###\n",
        "\n",
        "            if images!=None: images.append(env.render())\n",
        "            state = next_state                          # update state\n",
        "            episode_reward += reward\n",
        "            total_steps += 1\n",
        "        total_reward += episode_reward\n",
        "    average_reward = total_reward / episodes_to_play    # take the average reward of evaluations\n",
        "    average_steps = total_steps / episodes_to_play      # take the average steps of evaluations\n",
        "    #calculate reward\n",
        "    return average_reward, average_steps, images\n"
      ]
    },
    {
      "cell_type": "code",
      "execution_count": 14,
      "metadata": {
        "colab": {
          "base_uri": "https://localhost:8080/",
          "height": 67,
          "referenced_widgets": [
            "6f0670138d404bd9b5beea31fe0f7372",
            "566d38036bd849b1915988e4bd8693a1",
            "a5704e03981e419b98d91394a7fb4abd",
            "869ac4accc6f4686a6685e99504ed814",
            "5c6b3fa80c45437ba412dd67294fb6bb",
            "3d0b7604803a400cb6059d74f8317ad0",
            "310cbdd60de94d76aed800742d71a726",
            "0de108418e9d45c09de06249741a7a03",
            "55f233b2c37543c2bfa19811eff333e8",
            "237f93a284f0487f97faeec51dc98bd5",
            "336b028ca1f8478a879e868454d13638"
          ]
        },
        "id": "i22Rl7pqQI4i",
        "outputId": "8b2af224-28d7-4c41-87cd-6d73e7acfcdf"
      },
      "outputs": [
        {
          "output_type": "display_data",
          "data": {
            "text/plain": [
              "  0%|          | 0/1000 [00:00<?, ?it/s]"
            ],
            "application/vnd.jupyter.widget-view+json": {
              "version_major": 2,
              "version_minor": 0,
              "model_id": "6f0670138d404bd9b5beea31fe0f7372"
            }
          },
          "metadata": {}
        },
        {
          "output_type": "stream",
          "name": "stdout",
          "text": [
            "episodes:  525, final_reward 8.65\n"
          ]
        }
      ],
      "source": [
        "#training\n",
        "history = {'rewards' : []}                          # logs of rewards\n",
        "epsF = Epsilon(total_episodes)                      # generate epsilon object\n",
        "\n",
        "pbar = tqdm(range(total_episodes), bar_format='{l_bar}{bar:10}{r_bar}{bar:-10b}') # tqdm initializing\n",
        "\n",
        "for episodes in pbar:\n",
        "\n",
        "    # initialize variables for a new episode\n",
        "    epis_rewards = 0                                # episode reward\n",
        "    epis_steps = 0                                  # steps for an episode\n",
        "    done = False                                    # episode end flag\n",
        "\n",
        "    state = env_reset(env)                          # Reset the environment\n",
        "\n",
        "    epsilon = epsF.get_epsilon()                    # get new epsilon value\n",
        "\n",
        "    while not done:                                 # simulate to the terminal state of the episode\n",
        "\n",
        "        ### START CODE HERE ###\n",
        "\n",
        "        random_number = np.random.uniform(0,1)           # get a random number for exploration decision\n",
        "        if random_number > epsilon:                      # If this number > greater than epsilon --> exploitation\n",
        "            action = np.argmax(Q_table[state,:])         #  find an index of the biggest Q value for this state\n",
        "        else:                                            # Else doing a random choice --> exploration\n",
        "            action = np.random.randint(0,action_range)          #  get a random integer in [0,action_range)\n",
        "        next_state, reward, done =  env_step(env,action) # take the action to environment and observe outcomes\n",
        "        Q_table[state, action] = (1-learning_rate) * Q_table[state, action] + learning_rate * (reward + gamma * np.max(Q_table[next_state,:])) # update q-table\n",
        "\n",
        "        ###  END CODE HERE  ###\n",
        "\n",
        "        epis_rewards += reward                      # accumulate rewards to calculate the episode reward\n",
        "        state = next_state                          # set state for the next state\n",
        "\n",
        "        if epis_steps > max_steps: break            # if run too much : finish episode\n",
        "        else: epis_steps += 1\n",
        "\n",
        "    # evaluate the policy\n",
        "    eval_reward, eval_steps, _ = evaluate_policy(env, Q_table, val_episodes) # evaluate the policy\n",
        "\n",
        "    history['rewards'].append(eval_reward) #save reward tendency for ploting\n",
        "\n",
        "    pbar.set_postfix({'reward':eval_reward, 'steps':eval_steps})\n",
        "\n",
        "    if eval_reward>goal_score: break                # exit if convergence\n",
        "\n",
        "print('episodes:{0:5d}, final_reward {1:4.2f}'.format(episodes, eval_reward))"
      ]
    },
    {
      "cell_type": "markdown",
      "metadata": {
        "id": "iGjb5uiQQI4i"
      },
      "source": [
        "### Plot Training Histories"
      ]
    },
    {
      "cell_type": "code",
      "execution_count": 15,
      "metadata": {
        "colab": {
          "base_uri": "https://localhost:8080/",
          "height": 388
        },
        "id": "rclUpFaqQI4i",
        "outputId": "23805193-992a-4aa9-f6c4-799924af67c5"
      },
      "outputs": [
        {
          "output_type": "display_data",
          "data": {
            "text/plain": [
              "<Figure size 500x400 with 1 Axes>"
            ],
            "image/png": "[encoded data removed]"
          },
          "metadata": {}
        }
      ],
      "source": [
        "# plot loss and accuracy\n",
        "def plot_graphs(log_history, log_labels, graph_labels, graph_colors=['b-','g-']):\n",
        "    num_graphs = len(log_labels)\n",
        "    plt.figure(figsize=(5*num_graphs,4))\n",
        "    for i in range(num_graphs):\n",
        "        plt.subplot(1,num_graphs,i+1)\n",
        "        plt.plot(log_history[log_labels[i]], graph_colors[i], label=graph_labels[i])\n",
        "        plt.xlabel('episodes')\n",
        "        plt.legend()\n",
        "    plt.show()\n",
        "    return\n",
        "# Change in reward according to episode Plot to see the completeness of learning\n",
        "log_labels    = ['rewards']\n",
        "label_strings = ['reward']\n",
        "label_colors  = ['g-']\n",
        "plot_graphs(history, log_labels, label_strings, label_colors)"
      ]
    },
    {
      "cell_type": "markdown",
      "metadata": {
        "id": "31W-Jg_uQI4i"
      },
      "source": [
        "### Evaluate the Agent\n",
        "\n",
        "Evaluate the agent here to show the performance"
      ]
    },
    {
      "cell_type": "code",
      "execution_count": 16,
      "metadata": {
        "colab": {
          "base_uri": "https://localhost:8080/",
          "height": 67,
          "referenced_widgets": [
            "58a2e0250df34ab98f71ecfa9372f73f",
            "bcf17ee98fa64126911daea8e6dd6195",
            "3498ee723f7b48bb905500766413c102",
            "467f9d6ff92341acabcabad2e18909e0",
            "1432ad73ed6d4d9e9108adc18b661654",
            "b4ab759d40174987b1ce94ccce672fd3",
            "59b5ccfb062b4f97bc5d9599eb7d65a5",
            "f323fdc2b7574219b438bf07f5ee7fc3",
            "05cab6b1a4604c6f9eb3c4ed71c1323e",
            "c51a1d3c212144ea8da14ad39878af28",
            "02217f57511c49f5bcf45fab10a1f528"
          ]
        },
        "id": "fMi3bCYdQI4i",
        "outputId": "db59d93e-87fc-44e3-e582-fac11781fb81"
      },
      "outputs": [
        {
          "output_type": "display_data",
          "data": {
            "text/plain": [
              "  0%|          | 0/20 [00:00<?, ?it/s]"
            ],
            "application/vnd.jupyter.widget-view+json": {
              "version_major": 2,
              "version_minor": 0,
              "model_id": "58a2e0250df34ab98f71ecfa9372f73f"
            }
          },
          "metadata": {}
        },
        {
          "output_type": "stream",
          "name": "stdout",
          "text": [
            "Evaluation Result: -12.65\n"
          ]
        }
      ],
      "source": [
        "#agent evaluation\n",
        "evaluate_episodes = 20\n",
        "sum_episode_rewards = 0.0\n",
        "pbar = tqdm(range(evaluate_episodes))\n",
        "\n",
        "for i in pbar:\n",
        "    rewards, _, _ = evaluate_policy(env, Q_table, 1) # just one episode\n",
        "    sum_episode_rewards += rewards\n",
        "\n",
        "env.close()\n",
        "\n",
        "print('Evaluation Result:',  sum_episode_rewards/evaluate_episodes)"
      ]
    },
    {
      "cell_type": "markdown",
      "metadata": {
        "id": "Bk_J3Q6zQI4i"
      },
      "source": [
        "## See How The Agent Works"
      ]
    },
    {
      "cell_type": "code",
      "execution_count": 17,
      "metadata": {
        "colab": {
          "base_uri": "https://localhost:8080/"
        },
        "id": "ZOgKUvJ2QI4i",
        "outputId": "cfeefff8-4397-4d90-a6bb-cd1161a742f8"
      },
      "outputs": [
        {
          "output_type": "stream",
          "name": "stderr",
          "text": [
            "/usr/local/lib/python3.10/dist-packages/gymnasium/wrappers/rendering.py:283: UserWarning: \u001b[33mWARN: Overwriting existing videos at /content/gym-results folder (try specifying a different `video_folder` for the `RecordVideo` wrapper if this is not desired)\u001b[0m\n",
            "  logger.warn(\n"
          ]
        },
        {
          "output_type": "stream",
          "name": "stdout",
          "text": [
            "Sample Total Reward: 3.0\n"
          ]
        }
      ],
      "source": [
        "#Measuring reward through actions for each state in the optimized Q-table\n",
        "env = create_env()\n",
        "\n",
        "if SELECT_ENV != 2: #for Frozen Lake and Taxi\n",
        "    env = wrappers.RecordVideo(env, video_folder='./gym-results/', name_prefix=res_prefix) #record video\n",
        "    eval_reward, _, _ = evaluate_policy(env, Q_table, 1)\n",
        "else: #for blackjack\n",
        "    ims = []\n",
        "    eval_reward, _, ims = evaluate_policy(env, Q_table, 1, ims) # save image\n",
        "\n",
        "print('Sample Total Reward:', eval_reward)\n",
        "\n",
        "env.close()"
      ]
    },
    {
      "cell_type": "code",
      "execution_count": 18,
      "metadata": {
        "colab": {
          "base_uri": "https://localhost:8080/",
          "height": 224
        },
        "id": "RIquQajHQI4i",
        "outputId": "941d21b5-8d41-45cd-952a-d22d6aec7e77"
      },
      "outputs": [
        {
          "output_type": "display_data",
          "data": {
            "text/plain": [
              "<IPython.core.display.HTML object>"
            ],
            "text/html": [
              "<video width=320 controls><source src=\"data:video/mp4;base64,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\"></video>"
            ]
          },
          "metadata": {}
        }
      ],
      "source": [
        "#display agent video\n",
        "from IPython.display import HTML, display\n",
        "from base64 import b64encode\n",
        "\n",
        "def show_video(video_path, video_width = 320):\n",
        "    video_file = open(video_path, \"r+b\").read() #read saved video\n",
        "    video_url = f\"data:video/mp4;base64,{b64encode(video_file).decode()}\" #encoding decoding\n",
        "    return HTML(f\"\"\"<video width={video_width} controls><source src=\"{video_url}\"></video>\"\"\") # create link\n",
        "\n",
        "if SELECT_ENV==2: #create image\n",
        "    for i in range(len(ims)):\n",
        "        plt.figure(figsize=(3,3))\n",
        "        plt.imshow(ims[i])\n",
        "        plt.show()\n",
        "else:\n",
        "    display(show_video('./gym-results/' + res_prefix + '-episode-0.mp4')) #show"
      ]
    },
    {
      "cell_type": "markdown",
      "metadata": {
        "id": "Cu4k21d6QI4i"
      },
      "source": [
        "(c) 2024 SW Lee"
      ]
    }
  ],
  "metadata": {
    "kernelspec": {
      "display_name": "tf2",
      "language": "python",
      "name": "python3"
    },
    "language_info": {
      "codemirror_mode": {
        "name": "ipython",
        "version": 3
      },
      "file_extension": ".py",
      "mimetype": "text/x-python",
      "name": "python",
      "nbconvert_exporter": "python",
      "pygments_lexer": "ipython3",
      "version": "3.9.16"
    },
    "orig_nbformat": 4,
    "vscode": {
      "interpreter": {
        "hash": "71930d9c743a2c2f7d41567bb1e631f1d30be1b0f7ff3429fb86acce8edbed56"
      }
    },
    "colab": {
      "provenance": []
    },
    "widgets": {
      "application/vnd.jupyter.widget-state+json": {
        "6f0670138d404bd9b5beea31fe0f7372": {
          "model_module": "@jupyter-widgets/controls",
          "model_name": "HBoxModel",
          "model_module_version": "1.5.0",
          "state": {
            "_dom_classes": [],
            "_model_module": "@jupyter-widgets/controls",
            "_model_module_version": "1.5.0",
            "_model_name": "HBoxModel",
            "_view_count": null,
            "_view_module": "@jupyter-widgets/controls",
            "_view_module_version": "1.5.0",
            "_view_name": "HBoxView",
            "box_style": "",
            "children": [
              "IPY_MODEL_566d38036bd849b1915988e4bd8693a1",
              "IPY_MODEL_a5704e03981e419b98d91394a7fb4abd",
              "IPY_MODEL_869ac4accc6f4686a6685e99504ed814"
            ],
            "layout": "IPY_MODEL_5c6b3fa80c45437ba412dd67294fb6bb"
          }
        },
        "566d38036bd849b1915988e4bd8693a1": {
          "model_module": "@jupyter-widgets/controls",
          "model_name": "HTMLModel",
          "model_module_version": "1.5.0",
          "state": {
            "_dom_classes": [],
            "_model_module": "@jupyter-widgets/controls",
            "_model_module_version": "1.5.0",
            "_model_name": "HTMLModel",
            "_view_count": null,
            "_view_module": "@jupyter-widgets/controls",
            "_view_module_version": "1.5.0",
            "_view_name": "HTMLView",
            "description": "",
            "description_tooltip": null,
            "layout": "IPY_MODEL_3d0b7604803a400cb6059d74f8317ad0",
            "placeholder": "​",
            "style": "IPY_MODEL_310cbdd60de94d76aed800742d71a726",
            "value": ""
          }
        },
        "a5704e03981e419b98d91394a7fb4abd": {
          "model_module": "@jupyter-widgets/controls",
          "model_name": "FloatProgressModel",
          "model_module_version": "1.5.0",
          "state": {
            "_dom_classes": [],
            "_model_module": "@jupyter-widgets/controls",
            "_model_module_version": "1.5.0",
            "_model_name": "FloatProgressModel",
            "_view_count": null,
            "_view_module": "@jupyter-widgets/controls",
            "_view_module_version": "1.5.0",
            "_view_name": "ProgressView",
            "bar_style": "danger",
            "description": "",
            "description_tooltip": null,
            "layout": "IPY_MODEL_0de108418e9d45c09de06249741a7a03",
            "max": 1000,
            "min": 0,
            "orientation": "horizontal",
            "style": "IPY_MODEL_55f233b2c37543c2bfa19811eff333e8",
            "value": 525
          }
        },
        "869ac4accc6f4686a6685e99504ed814": {
          "model_module": "@jupyter-widgets/controls",
          "model_name": "HTMLModel",
          "model_module_version": "1.5.0",
          "state": {
            "_dom_classes": [],
            "_model_module": "@jupyter-widgets/controls",
            "_model_module_version": "1.5.0",
            "_model_name": "HTMLModel",
            "_view_count": null,
            "_view_module": "@jupyter-widgets/controls",
            "_view_module_version": "1.5.0",
            "_view_name": "HTMLView",
            "description": "",
            "description_tooltip": null,
            "layout": "IPY_MODEL_237f93a284f0487f97faeec51dc98bd5",
            "placeholder": "​",
            "style": "IPY_MODEL_336b028ca1f8478a879e868454d13638",
            "value": " 52%|█████▎    | 525/1000 [00:43&lt;00:14, 32.15it/s, reward=8.65, steps=12.3]"
          }
        },
        "5c6b3fa80c45437ba412dd67294fb6bb": {
          "model_module": "@jupyter-widgets/base",
          "model_name": "LayoutModel",
          "model_module_version": "1.2.0",
          "state": {
            "_model_module": "@jupyter-widgets/base",
            "_model_module_version": "1.2.0",
            "_model_name": "LayoutModel",
            "_view_count": null,
            "_view_module": "@jupyter-widgets/base",
            "_view_module_version": "1.2.0",
            "_view_name": "LayoutView",
            "align_content": null,
            "align_items": null,
            "align_self": null,
            "border": null,
            "bottom": null,
            "display": null,
            "flex": null,
            "flex_flow": null,
            "grid_area": null,
            "grid_auto_columns": null,
            "grid_auto_flow": null,
            "grid_auto_rows": null,
            "grid_column": null,
            "grid_gap": null,
            "grid_row": null,
            "grid_template_areas": null,
            "grid_template_columns": null,
            "grid_template_rows": null,
            "height": null,
            "justify_content": null,
            "justify_items": null,
            "left": null,
            "margin": null,
            "max_height": null,
            "max_width": null,
            "min_height": null,
            "min_width": null,
            "object_fit": null,
            "object_position": null,
            "order": null,
            "overflow": null,
            "overflow_x": null,
            "overflow_y": null,
            "padding": null,
            "right": null,
            "top": null,
            "visibility": null,
            "width": null
          }
        },
        "3d0b7604803a400cb6059d74f8317ad0": {
          "model_module": "@jupyter-widgets/base",
          "model_name": "LayoutModel",
          "model_module_version": "1.2.0",
          "state": {
            "_model_module": "@jupyter-widgets/base",
            "_model_module_version": "1.2.0",
            "_model_name": "LayoutModel",
            "_view_count": null,
            "_view_module": "@jupyter-widgets/base",
            "_view_module_version": "1.2.0",
            "_view_name": "LayoutView",
            "align_content": null,
            "align_items": null,
            "align_self": null,
            "border": null,
            "bottom": null,
            "display": null,
            "flex": null,
            "flex_flow": null,
            "grid_area": null,
            "grid_auto_columns": null,
            "grid_auto_flow": null,
            "grid_auto_rows": null,
            "grid_column": null,
            "grid_gap": null,
            "grid_row": null,
            "grid_template_areas": null,
            "grid_template_columns": null,
            "grid_template_rows": null,
            "height": null,
            "justify_content": null,
            "justify_items": null,
            "left": null,
            "margin": null,
            "max_height": null,
            "max_width": null,
            "min_height": null,
            "min_width": null,
            "object_fit": null,
            "object_position": null,
            "order": null,
            "overflow": null,
            "overflow_x": null,
            "overflow_y": null,
            "padding": null,
            "right": null,
            "top": null,
            "visibility": null,
            "width": null
          }
        },
        "310cbdd60de94d76aed800742d71a726": {
          "model_module": "@jupyter-widgets/controls",
          "model_name": "DescriptionStyleModel",
          "model_module_version": "1.5.0",
          "state": {
            "_model_module": "@jupyter-widgets/controls",
            "_model_module_version": "1.5.0",
            "_model_name": "DescriptionStyleModel",
            "_view_count": null,
            "_view_module": "@jupyter-widgets/base",
            "_view_module_version": "1.2.0",
            "_view_name": "StyleView",
            "description_width": ""
          }
        },
        "0de108418e9d45c09de06249741a7a03": {
          "model_module": "@jupyter-widgets/base",
          "model_name": "LayoutModel",
          "model_module_version": "1.2.0",
          "state": {
            "_model_module": "@jupyter-widgets/base",
            "_model_module_version": "1.2.0",
            "_model_name": "LayoutModel",
            "_view_count": null,
            "_view_module": "@jupyter-widgets/base",
            "_view_module_version": "1.2.0",
            "_view_name": "LayoutView",
            "align_content": null,
            "align_items": null,
            "align_self": null,
            "border": null,
            "bottom": null,
            "display": null,
            "flex": null,
            "flex_flow": null,
            "grid_area": null,
            "grid_auto_columns": null,
            "grid_auto_flow": null,
            "grid_auto_rows": null,
            "grid_column": null,
            "grid_gap": null,
            "grid_row": null,
            "grid_template_areas": null,
            "grid_template_columns": null,
            "grid_template_rows": null,
            "height": null,
            "justify_content": null,
            "justify_items": null,
            "left": null,
            "margin": null,
            "max_height": null,
            "max_width": null,
            "min_height": null,
            "min_width": null,
            "object_fit": null,
            "object_position": null,
            "order": null,
            "overflow": null,
            "overflow_x": null,
            "overflow_y": null,
            "padding": null,
            "right": null,
            "top": null,
            "visibility": null,
            "width": null
          }
        },
        "55f233b2c37543c2bfa19811eff333e8": {
          "model_module": "@jupyter-widgets/controls",
          "model_name": "ProgressStyleModel",
          "model_module_version": "1.5.0",
          "state": {
            "_model_module": "@jupyter-widgets/controls",
            "_model_module_version": "1.5.0",
            "_model_name": "ProgressStyleModel",
            "_view_count": null,
            "_view_module": "@jupyter-widgets/base",
            "_view_module_version": "1.2.0",
            "_view_name": "StyleView",
            "bar_color": null,
            "description_width": ""
          }
        },
        "237f93a284f0487f97faeec51dc98bd5": {
          "model_module": "@jupyter-widgets/base",
          "model_name": "LayoutModel",
          "model_module_version": "1.2.0",
          "state": {
            "_model_module": "@jupyter-widgets/base",
            "_model_module_version": "1.2.0",
            "_model_name": "LayoutModel",
            "_view_count": null,
            "_view_module": "@jupyter-widgets/base",
            "_view_module_version": "1.2.0",
            "_view_name": "LayoutView",
            "align_content": null,
            "align_items": null,
            "align_self": null,
            "border": null,
            "bottom": null,
            "display": null,
            "flex": null,
            "flex_flow": null,
            "grid_area": null,
            "grid_auto_columns": null,
            "grid_auto_flow": null,
            "grid_auto_rows": null,
            "grid_column": null,
            "grid_gap": null,
            "grid_row": null,
            "grid_template_areas": null,
            "grid_template_columns": null,
            "grid_template_rows": null,
            "height": null,
            "justify_content": null,
            "justify_items": null,
            "left": null,
            "margin": null,
            "max_height": null,
            "max_width": null,
            "min_height": null,
            "min_width": null,
            "object_fit": null,
            "object_position": null,
            "order": null,
            "overflow": null,
            "overflow_x": null,
            "overflow_y": null,
            "padding": null,
            "right": null,
            "top": null,
            "visibility": null,
            "width": null
          }
        },
        "336b028ca1f8478a879e868454d13638": {
          "model_module": "@jupyter-widgets/controls",
          "model_name": "DescriptionStyleModel",
          "model_module_version": "1.5.0",
          "state": {
            "_model_module": "@jupyter-widgets/controls",
            "_model_module_version": "1.5.0",
            "_model_name": "DescriptionStyleModel",
            "_view_count": null,
            "_view_module": "@jupyter-widgets/base",
            "_view_module_version": "1.2.0",
            "_view_name": "StyleView",
            "description_width": ""
          }
        },
        "58a2e0250df34ab98f71ecfa9372f73f": {
          "model_module": "@jupyter-widgets/controls",
          "model_name": "HBoxModel",
          "model_module_version": "1.5.0",
          "state": {
            "_dom_classes": [],
            "_model_module": "@jupyter-widgets/controls",
            "_model_module_version": "1.5.0",
            "_model_name": "HBoxModel",
            "_view_count": null,
            "_view_module": "@jupyter-widgets/controls",
            "_view_module_version": "1.5.0",
            "_view_name": "HBoxView",
            "box_style": "",
            "children": [
              "IPY_MODEL_bcf17ee98fa64126911daea8e6dd6195",
              "IPY_MODEL_3498ee723f7b48bb905500766413c102",
              "IPY_MODEL_467f9d6ff92341acabcabad2e18909e0"
            ],
            "layout": "IPY_MODEL_1432ad73ed6d4d9e9108adc18b661654"
          }
        },
        "bcf17ee98fa64126911daea8e6dd6195": {
          "model_module": "@jupyter-widgets/controls",
          "model_name": "HTMLModel",
          "model_module_version": "1.5.0",
          "state": {
            "_dom_classes": [],
            "_model_module": "@jupyter-widgets/controls",
            "_model_module_version": "1.5.0",
            "_model_name": "HTMLModel",
            "_view_count": null,
            "_view_module": "@jupyter-widgets/controls",
            "_view_module_version": "1.5.0",
            "_view_name": "HTMLView",
            "description": "",
            "description_tooltip": null,
            "layout": "IPY_MODEL_b4ab759d40174987b1ce94ccce672fd3",
            "placeholder": "​",
            "style": "IPY_MODEL_59b5ccfb062b4f97bc5d9599eb7d65a5",
            "value": "100%"
          }
        },
        "3498ee723f7b48bb905500766413c102": {
          "model_module": "@jupyter-widgets/controls",
          "model_name": "FloatProgressModel",
          "model_module_version": "1.5.0",
          "state": {
            "_dom_classes": [],
            "_model_module": "@jupyter-widgets/controls",
            "_model_module_version": "1.5.0",
            "_model_name": "FloatProgressModel",
            "_view_count": null,
            "_view_module": "@jupyter-widgets/controls",
            "_view_module_version": "1.5.0",
            "_view_name": "ProgressView",
            "bar_style": "success",
            "description": "",
            "description_tooltip": null,
            "layout": "IPY_MODEL_f323fdc2b7574219b438bf07f5ee7fc3",
            "max": 20,
            "min": 0,
            "orientation": "horizontal",
            "style": "IPY_MODEL_05cab6b1a4604c6f9eb3c4ed71c1323e",
            "value": 20
          }
        },
        "467f9d6ff92341acabcabad2e18909e0": {
          "model_module": "@jupyter-widgets/controls",
          "model_name": "HTMLModel",
          "model_module_version": "1.5.0",
          "state": {
            "_dom_classes": [],
            "_model_module": "@jupyter-widgets/controls",
            "_model_module_version": "1.5.0",
            "_model_name": "HTMLModel",
            "_view_count": null,
            "_view_module": "@jupyter-widgets/controls",
            "_view_module_version": "1.5.0",
            "_view_name": "HTMLView",
            "description": "",
            "description_tooltip": null,
            "layout": "IPY_MODEL_c51a1d3c212144ea8da14ad39878af28",
            "placeholder": "​",
            "style": "IPY_MODEL_02217f57511c49f5bcf45fab10a1f528",
            "value": " 20/20 [00:00&lt;00:00, 450.18it/s]"
          }
        },
        "1432ad73ed6d4d9e9108adc18b661654": {
          "model_module": "@jupyter-widgets/base",
          "model_name": "LayoutModel",
          "model_module_version": "1.2.0",
          "state": {
            "_model_module": "@jupyter-widgets/base",
            "_model_module_version": "1.2.0",
            "_model_name": "LayoutModel",
            "_view_count": null,
            "_view_module": "@jupyter-widgets/base",
            "_view_module_version": "1.2.0",
            "_view_name": "LayoutView",
            "align_content": null,
            "align_items": null,
            "align_self": null,
            "border": null,
            "bottom": null,
            "display": null,
            "flex": null,
            "flex_flow": null,
            "grid_area": null,
            "grid_auto_columns": null,
            "grid_auto_flow": null,
            "grid_auto_rows": null,
            "grid_column": null,
            "grid_gap": null,
            "grid_row": null,
            "grid_template_areas": null,
            "grid_template_columns": null,
            "grid_template_rows": null,
            "height": null,
            "justify_content": null,
            "justify_items": null,
            "left": null,
            "margin": null,
            "max_height": null,
            "max_width": null,
            "min_height": null,
            "min_width": null,
            "object_fit": null,
            "object_position": null,
            "order": null,
            "overflow": null,
            "overflow_x": null,
            "overflow_y": null,
            "padding": null,
            "right": null,
            "top": null,
            "visibility": null,
            "width": null
          }
        },
        "b4ab759d40174987b1ce94ccce672fd3": {
          "model_module": "@jupyter-widgets/base",
          "model_name": "LayoutModel",
          "model_module_version": "1.2.0",
          "state": {
            "_model_module": "@jupyter-widgets/base",
            "_model_module_version": "1.2.0",
            "_model_name": "LayoutModel",
            "_view_count": null,
            "_view_module": "@jupyter-widgets/base",
            "_view_module_version": "1.2.0",
            "_view_name": "LayoutView",
            "align_content": null,
            "align_items": null,
            "align_self": null,
            "border": null,
            "bottom": null,
            "display": null,
            "flex": null,
            "flex_flow": null,
            "grid_area": null,
            "grid_auto_columns": null,
            "grid_auto_flow": null,
            "grid_auto_rows": null,
            "grid_column": null,
            "grid_gap": null,
            "grid_row": null,
            "grid_template_areas": null,
            "grid_template_columns": null,
            "grid_template_rows": null,
            "height": null,
            "justify_content": null,
            "justify_items": null,
            "left": null,
            "margin": null,
            "max_height": null,
            "max_width": null,
            "min_height": null,
            "min_width": null,
            "object_fit": null,
            "object_position": null,
            "order": null,
            "overflow": null,
            "overflow_x": null,
            "overflow_y": null,
            "padding": null,
            "right": null,
            "top": null,
            "visibility": null,
            "width": null
          }
        },
        "59b5ccfb062b4f97bc5d9599eb7d65a5": {
          "model_module": "@jupyter-widgets/controls",
          "model_name": "DescriptionStyleModel",
          "model_module_version": "1.5.0",
          "state": {
            "_model_module": "@jupyter-widgets/controls",
            "_model_module_version": "1.5.0",
            "_model_name": "DescriptionStyleModel",
            "_view_count": null,
            "_view_module": "@jupyter-widgets/base",
            "_view_module_version": "1.2.0",
            "_view_name": "StyleView",
            "description_width": ""
          }
        },
        "f323fdc2b7574219b438bf07f5ee7fc3": {
          "model_module": "@jupyter-widgets/base",
          "model_name": "LayoutModel",
          "model_module_version": "1.2.0",
          "state": {
            "_model_module": "@jupyter-widgets/base",
            "_model_module_version": "1.2.0",
            "_model_name": "LayoutModel",
            "_view_count": null,
            "_view_module": "@jupyter-widgets/base",
            "_view_module_version": "1.2.0",
            "_view_name": "LayoutView",
            "align_content": null,
            "align_items": null,
            "align_self": null,
            "border": null,
            "bottom": null,
            "display": null,
            "flex": null,
            "flex_flow": null,
            "grid_area": null,
            "grid_auto_columns": null,
            "grid_auto_flow": null,
            "grid_auto_rows": null,
            "grid_column": null,
            "grid_gap": null,
            "grid_row": null,
            "grid_template_areas": null,
            "grid_template_columns": null,
            "grid_template_rows": null,
            "height": null,
            "justify_content": null,
            "justify_items": null,
            "left": null,
            "margin": null,
            "max_height": null,
            "max_width": null,
            "min_height": null,
            "min_width": null,
            "object_fit": null,
            "object_position": null,
            "order": null,
            "overflow": null,
            "overflow_x": null,
            "overflow_y": null,
            "padding": null,
            "right": null,
            "top": null,
            "visibility": null,
            "width": null
          }
        },
        "05cab6b1a4604c6f9eb3c4ed71c1323e": {
          "model_module": "@jupyter-widgets/controls",
          "model_name": "ProgressStyleModel",
          "model_module_version": "1.5.0",
          "state": {
            "_model_module": "@jupyter-widgets/controls",
            "_model_module_version": "1.5.0",
            "_model_name": "ProgressStyleModel",
            "_view_count": null,
            "_view_module": "@jupyter-widgets/base",
            "_view_module_version": "1.2.0",
            "_view_name": "StyleView",
            "bar_color": null,
            "description_width": ""
          }
        },
        "c51a1d3c212144ea8da14ad39878af28": {
          "model_module": "@jupyter-widgets/base",
          "model_name": "LayoutModel",
          "model_module_version": "1.2.0",
          "state": {
            "_model_module": "@jupyter-widgets/base",
            "_model_module_version": "1.2.0",
            "_model_name": "LayoutModel",
            "_view_count": null,
            "_view_module": "@jupyter-widgets/base",
            "_view_module_version": "1.2.0",
            "_view_name": "LayoutView",
            "align_content": null,
            "align_items": null,
            "align_self": null,
            "border": null,
            "bottom": null,
            "display": null,
            "flex": null,
            "flex_flow": null,
            "grid_area": null,
            "grid_auto_columns": null,
            "grid_auto_flow": null,
            "grid_auto_rows": null,
            "grid_column": null,
            "grid_gap": null,
            "grid_row": null,
            "grid_template_areas": null,
            "grid_template_columns": null,
            "grid_template_rows": null,
            "height": null,
            "justify_content": null,
            "justify_items": null,
            "left": null,
            "margin": null,
            "max_height": null,
            "max_width": null,
            "min_height": null,
            "min_width": null,
            "object_fit": null,
            "object_position": null,
            "order": null,
            "overflow": null,
            "overflow_x": null,
            "overflow_y": null,
            "padding": null,
            "right": null,
            "top": null,
            "visibility": null,
            "width": null
          }
        },
        "02217f57511c49f5bcf45fab10a1f528": {
          "model_module": "@jupyter-widgets/controls",
          "model_name": "DescriptionStyleModel",
          "model_module_version": "1.5.0",
          "state": {
            "_model_module": "@jupyter-widgets/controls",
            "_model_module_version": "1.5.0",
            "_model_name": "DescriptionStyleModel",
            "_view_count": null,
            "_view_module": "@jupyter-widgets/base",
            "_view_module_version": "1.2.0",
            "_view_name": "StyleView",
            "description_width": ""
          }
        }
      }
    }
  },
  "nbformat": 4,
  "nbformat_minor": 0
}