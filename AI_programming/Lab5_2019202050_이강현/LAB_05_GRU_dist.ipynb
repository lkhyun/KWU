{
  "cells": [
    {
      "cell_type": "markdown",
      "metadata": {
        "id": "fVCDBjoZH3Mw"
      },
      "source": [
        "AI Programming - SW Lee"
      ]
    },
    {
      "cell_type": "markdown",
      "metadata": {
        "id": "DUb1pg2m6RJu"
      },
      "source": [
        "# Lab 05: Sequence Model of GRU\n",
        "## Exercise: Sentiment Analysis of Movie Reviews\n",
        "This exercise is based on the notebook in TensorFlow Tutorials.<br>\n",
        "https://www.tensorflow.org/text/tutorials/text_classification_rnn"
      ]
    },
    {
      "cell_type": "code",
      "execution_count": 17,
      "metadata": {
        "id": "4aPIiep7H3Mz"
      },
      "outputs": [],
      "source": [
        "import os\n",
        "os.environ[\"KERAS_BACKEND\"] = \"tensorflow\"\n",
        "\n",
        "import numpy as np\n",
        "import tensorflow as tf\n",
        "import tensorflow_datasets as tfds\n",
        "import keras\n",
        "import matplotlib.pyplot as plt"
      ]
    },
    {
      "cell_type": "markdown",
      "metadata": {
        "id": "-7sgkHR4mvxM"
      },
      "source": [
        "Loading IMDB standard dataset using the Keras dataset class."
      ]
    },
    {
      "cell_type": "markdown",
      "metadata": {
        "id": "zvL9DI8smvxO"
      },
      "source": [
        "num_words = 10000 signifies that only 10000 unique words will be taken for our dataset.\n",
        "\n",
        "x_train, x_test: List of movie reviews text data. having an uneven length.\n",
        "\n",
        "y_train, y_test: Lists of integer target labels (1 or 0)."
      ]
    },
    {
      "cell_type": "code",
      "execution_count": 18,
      "metadata": {
        "colab": {
          "base_uri": "https://localhost:8080/"
        },
        "id": "_5Bf0X5UH3M0",
        "outputId": "c7da3185-6847-4453-b662-2b0dbf809789"
      },
      "outputs": [
        {
          "output_type": "stream",
          "name": "stdout",
          "text": [
            "FeaturesDict({\n",
            "    'label': ClassLabel(shape=(), dtype=int64, num_classes=2),\n",
            "    'text': Text(shape=(), dtype=string),\n",
            "})\n"
          ]
        }
      ],
      "source": [
        "#from keras.datasets import imdb\n",
        "(ds_train, ds_test), ds_info = tfds.load('imdb_reviews',\n",
        "                                         split=['train', 'test'],  # + 'unsupervised'\n",
        "                                         shuffle_files=True,\n",
        "                                         as_supervised=True,\n",
        "                                         with_info=True)\n",
        "\n",
        "print(ds_info.features)"
      ]
    },
    {
      "cell_type": "markdown",
      "metadata": {
        "id": "uUduR4GtmvxP"
      },
      "source": [
        "We are defining max_len = 200. If a sentence is having a length greater than 200 it will be trimmed off otherwise it will be padded by 0."
      ]
    },
    {
      "cell_type": "code",
      "execution_count": 19,
      "metadata": {
        "id": "2YSFSAJXmvxP"
      },
      "outputs": [],
      "source": [
        "X_train = []\n",
        "y_train = []\n",
        "\n",
        "X_test_str = []\n",
        "y_test = []\n",
        "\n",
        "#preparing datasets\n",
        "for sentense, label in ds_train:\n",
        "    X_train.append(sentense.numpy().decode('utf8'))\n",
        "    y_train.append(label.numpy())\n",
        "\n",
        "for sentense, label in ds_test:\n",
        "    X_test_str.append(sentense.numpy().decode('utf8'))  # X_test_str is used at the test stage\n",
        "    y_test.append(label.numpy())\n",
        "\n",
        "y_train = np.array(y_train)\n",
        "y_test = np.array(y_test)"
      ]
    },
    {
      "cell_type": "code",
      "execution_count": 20,
      "metadata": {
        "colab": {
          "base_uri": "https://localhost:8080/"
        },
        "id": "OM8uca18mvxQ",
        "outputId": "eda140a4-6e60-42c6-9e7a-63a7252589f3"
      },
      "outputs": [
        {
          "output_type": "stream",
          "name": "stdout",
          "text": [
            "This was an absolutely terrible movie. Don't be lured in by Christopher Walken or Michael Ironside. Both are great actors, but this must simply be their worst role in history. Even their great acting could not redeem this movie's ridiculous storyline. This movie is an early nineties US propaganda piece. The most pathetic scenes were those when the Columbian rebels were making their cases for revolutions. Maria Conchita Alonso appeared phony, and her pseudo-love affair with Walken was nothing but a pathetic emotional plug in a movie that was devoid of any real meaning. I am disappointed that there are movies like this, ruining actor's like Christopher Walken's good name. I could barely sit through it.\n",
            "The review is Negative\n"
          ]
        }
      ],
      "source": [
        "print(X_train[0])\n",
        "print('The review is', 'Positive' if y_train[0]==1 else 'Negative')"
      ]
    },
    {
      "cell_type": "markdown",
      "metadata": {
        "id": "R4R5lIe1mvxR"
      },
      "source": [
        "## Tokenizer and Integer encoding"
      ]
    },
    {
      "cell_type": "code",
      "execution_count": 21,
      "metadata": {
        "id": "HOqYpTOjmvxR"
      },
      "outputs": [],
      "source": [
        "# hyperparameter for word embeddings\n",
        "vocab_size = 10000\n",
        "embedding_size = 128\n",
        "max_length = 300\n",
        "\n",
        "### START CODE HERE ###\n",
        "\n",
        "tokenizer = keras.layers.TextVectorization(max_tokens=vocab_size, output_sequence_length=max_length) # tokenizer for integer encoding\n",
        "\n",
        "tokenizer.adapt(X_train) # adjust to train datasets\n",
        "\n",
        "X_train = tokenizer(X_train) # tokenize train datasets\n",
        "X_test = tokenizer(X_test_str) # tokenize test datasets\n",
        "\n",
        "### END CODE HERE ###"
      ]
    },
    {
      "cell_type": "markdown",
      "metadata": {
        "id": "-kQAVwqSmvxS"
      },
      "source": [
        "input_length = maxlen Since we have already made all sentences in our dataset have an equal length of 200 using pad_sequence.\n",
        "The Embedding layer takes n_unique_words as the size of the vocabulary in our dataset which we already declared as 10000.\n",
        "After the Embedding layer, we are adding Bi-directional LSTM units.\n",
        "Using sigmoid activation and then compiling the model"
      ]
    },
    {
      "cell_type": "code",
      "execution_count": 22,
      "metadata": {
        "colab": {
          "base_uri": "https://localhost:8080/",
          "height": 272
        },
        "id": "0fdyo9lumvxS",
        "outputId": "39ccd0a7-42f5-4c2f-b15b-82bedf3bcd6e"
      },
      "outputs": [
        {
          "output_type": "display_data",
          "data": {
            "text/plain": [
              "\u001b[1mModel: \"sequential_7\"\u001b[0m\n"
            ],
            "text/html": [
              "<pre style=\"white-space:pre;overflow-x:auto;line-height:normal;font-family:Menlo,'DejaVu Sans Mono',consolas,'Courier New',monospace\"><span style=\"font-weight: bold\">Model: \"sequential_7\"</span>\n",
              "</pre>\n"
            ]
          },
          "metadata": {}
        },
        {
          "output_type": "display_data",
          "data": {
            "text/plain": [
              "┏━━━━━━━━━━━━━━━━━━━━━━━━━━━━━━━━━━━━━━┳━━━━━━━━━━━━━━━━━━━━━━━━━━━━━┳━━━━━━━━━━━━━━━━━┓\n",
              "┃\u001b[1m \u001b[0m\u001b[1mLayer (type)                        \u001b[0m\u001b[1m \u001b[0m┃\u001b[1m \u001b[0m\u001b[1mOutput Shape               \u001b[0m\u001b[1m \u001b[0m┃\u001b[1m \u001b[0m\u001b[1m        Param #\u001b[0m\u001b[1m \u001b[0m┃\n",
              "┡━━━━━━━━━━━━━━━━━━━━━━━━━━━━━━━━━━━━━━╇━━━━━━━━━━━━━━━━━━━━━━━━━━━━━╇━━━━━━━━━━━━━━━━━┩\n",
              "│ embedding_5 (\u001b[38;5;33mEmbedding\u001b[0m)              │ (\u001b[38;5;45mNone\u001b[0m, \u001b[38;5;34m300\u001b[0m, \u001b[38;5;34m128\u001b[0m)            │       \u001b[38;5;34m1,280,000\u001b[0m │\n",
              "├──────────────────────────────────────┼─────────────────────────────┼─────────────────┤\n",
              "│ bidirectional_1 (\u001b[38;5;33mBidirectional\u001b[0m)      │ (\u001b[38;5;45mNone\u001b[0m, \u001b[38;5;34m128\u001b[0m)                 │          \u001b[38;5;34m74,496\u001b[0m │\n",
              "├──────────────────────────────────────┼─────────────────────────────┼─────────────────┤\n",
              "│ dropout_1 (\u001b[38;5;33mDropout\u001b[0m)                  │ (\u001b[38;5;45mNone\u001b[0m, \u001b[38;5;34m128\u001b[0m)                 │               \u001b[38;5;34m0\u001b[0m │\n",
              "├──────────────────────────────────────┼─────────────────────────────┼─────────────────┤\n",
              "│ dense_1 (\u001b[38;5;33mDense\u001b[0m)                      │ (\u001b[38;5;45mNone\u001b[0m, \u001b[38;5;34m1\u001b[0m)                   │             \u001b[38;5;34m129\u001b[0m │\n",
              "└──────────────────────────────────────┴─────────────────────────────┴─────────────────┘\n"
            ],
            "text/html": [
              "<pre style=\"white-space:pre;overflow-x:auto;line-height:normal;font-family:Menlo,'DejaVu Sans Mono',consolas,'Courier New',monospace\">┏━━━━━━━━━━━━━━━━━━━━━━━━━━━━━━━━━━━━━━┳━━━━━━━━━━━━━━━━━━━━━━━━━━━━━┳━━━━━━━━━━━━━━━━━┓\n",
              "┃<span style=\"font-weight: bold\"> Layer (type)                         </span>┃<span style=\"font-weight: bold\"> Output Shape                </span>┃<span style=\"font-weight: bold\">         Param # </span>┃\n",
              "┡━━━━━━━━━━━━━━━━━━━━━━━━━━━━━━━━━━━━━━╇━━━━━━━━━━━━━━━━━━━━━━━━━━━━━╇━━━━━━━━━━━━━━━━━┩\n",
              "│ embedding_5 (<span style=\"color: #0087ff; text-decoration-color: #0087ff\">Embedding</span>)              │ (<span style=\"color: #00d7ff; text-decoration-color: #00d7ff\">None</span>, <span style=\"color: #00af00; text-decoration-color: #00af00\">300</span>, <span style=\"color: #00af00; text-decoration-color: #00af00\">128</span>)            │       <span style=\"color: #00af00; text-decoration-color: #00af00\">1,280,000</span> │\n",
              "├──────────────────────────────────────┼─────────────────────────────┼─────────────────┤\n",
              "│ bidirectional_1 (<span style=\"color: #0087ff; text-decoration-color: #0087ff\">Bidirectional</span>)      │ (<span style=\"color: #00d7ff; text-decoration-color: #00d7ff\">None</span>, <span style=\"color: #00af00; text-decoration-color: #00af00\">128</span>)                 │          <span style=\"color: #00af00; text-decoration-color: #00af00\">74,496</span> │\n",
              "├──────────────────────────────────────┼─────────────────────────────┼─────────────────┤\n",
              "│ dropout_1 (<span style=\"color: #0087ff; text-decoration-color: #0087ff\">Dropout</span>)                  │ (<span style=\"color: #00d7ff; text-decoration-color: #00d7ff\">None</span>, <span style=\"color: #00af00; text-decoration-color: #00af00\">128</span>)                 │               <span style=\"color: #00af00; text-decoration-color: #00af00\">0</span> │\n",
              "├──────────────────────────────────────┼─────────────────────────────┼─────────────────┤\n",
              "│ dense_1 (<span style=\"color: #0087ff; text-decoration-color: #0087ff\">Dense</span>)                      │ (<span style=\"color: #00d7ff; text-decoration-color: #00d7ff\">None</span>, <span style=\"color: #00af00; text-decoration-color: #00af00\">1</span>)                   │             <span style=\"color: #00af00; text-decoration-color: #00af00\">129</span> │\n",
              "└──────────────────────────────────────┴─────────────────────────────┴─────────────────┘\n",
              "</pre>\n"
            ]
          },
          "metadata": {}
        },
        {
          "output_type": "display_data",
          "data": {
            "text/plain": [
              "\u001b[1m Total params: \u001b[0m\u001b[38;5;34m1,354,625\u001b[0m (5.17 MB)\n"
            ],
            "text/html": [
              "<pre style=\"white-space:pre;overflow-x:auto;line-height:normal;font-family:Menlo,'DejaVu Sans Mono',consolas,'Courier New',monospace\"><span style=\"font-weight: bold\"> Total params: </span><span style=\"color: #00af00; text-decoration-color: #00af00\">1,354,625</span> (5.17 MB)\n",
              "</pre>\n"
            ]
          },
          "metadata": {}
        },
        {
          "output_type": "display_data",
          "data": {
            "text/plain": [
              "\u001b[1m Trainable params: \u001b[0m\u001b[38;5;34m1,354,625\u001b[0m (5.17 MB)\n"
            ],
            "text/html": [
              "<pre style=\"white-space:pre;overflow-x:auto;line-height:normal;font-family:Menlo,'DejaVu Sans Mono',consolas,'Courier New',monospace\"><span style=\"font-weight: bold\"> Trainable params: </span><span style=\"color: #00af00; text-decoration-color: #00af00\">1,354,625</span> (5.17 MB)\n",
              "</pre>\n"
            ]
          },
          "metadata": {}
        },
        {
          "output_type": "display_data",
          "data": {
            "text/plain": [
              "\u001b[1m Non-trainable params: \u001b[0m\u001b[38;5;34m0\u001b[0m (0.00 B)\n"
            ],
            "text/html": [
              "<pre style=\"white-space:pre;overflow-x:auto;line-height:normal;font-family:Menlo,'DejaVu Sans Mono',consolas,'Courier New',monospace\"><span style=\"font-weight: bold\"> Non-trainable params: </span><span style=\"color: #00af00; text-decoration-color: #00af00\">0</span> (0.00 B)\n",
              "</pre>\n"
            ]
          },
          "metadata": {}
        }
      ],
      "source": [
        "hidden_states = 64\n",
        "dropout_rate = 0.5\n",
        "\n",
        "model = keras.Sequential() # initialize sequential model\n",
        "\n",
        "### START CODE HERE ###\n",
        "\n",
        "model.add(keras.layers.InputLayer(shape=(max_length,)))  # input layer\n",
        "model.add(keras.layers.Embedding(vocab_size,embedding_size))  # embedding layer\n",
        "model.add(keras.layers.Bidirectional(keras.layers.GRU(hidden_states)))  # bidirectional GRU\n",
        "model.add(keras.layers.Dropout(dropout_rate))  # dropout\n",
        "model.add(keras.layers.Dense(1,activation=\"sigmoid\"))  # output layer\n",
        "\n",
        "### END CODE HERE ###\n",
        "\n",
        "model.compile(loss='binary_crossentropy', optimizer='adam', metrics=['accuracy']) # compile model\n",
        "\n",
        "model.summary()"
      ]
    },
    {
      "cell_type": "markdown",
      "metadata": {
        "id": "My5qKGAgH3M2"
      },
      "source": [
        "**Expected Model Summary**\n",
        "\n",
        "```\n",
        "┏--------------------------------------┳-----------------------------┳-----------------┓\n",
        "┃ Layer (type)                         ┃ Output Shape                ┃         Param # ┃\n",
        "┡--------------------------------------╇-----------------------------╇-----------------┩\n",
        "│ embedding_1 (Embedding)              │ (None, 300, 128)            │       1,280,000 │\n",
        "┡--------------------------------------╇-----------------------------╇-----------------┩\n",
        "│ bidirectional_1 (Bidirectional)      │ (None, 128)                 │          74,496 │\n",
        "┡--------------------------------------╇-----------------------------╇-----------------┩\n",
        "│ dropout_1 (Dropout)                  │ (None, 128)                 │               0 │\n",
        "┡--------------------------------------╇-----------------------------╇-----------------┩\n",
        "│ dense_1 (Dense)                      │ (None, 1)                   │             129 │\n",
        "└--------------------------------------┴-----------------------------┴-----------------┘\n",
        " Total params: 1,354,625 (5.17 MB)\n",
        " Trainable params: 1,354,625 (5.17 MB)\n",
        " Non-trainable params: 0 (0.00 B)\n",
        "```\n"
      ]
    },
    {
      "cell_type": "markdown",
      "metadata": {
        "id": "XZXZynECH3M2"
      },
      "source": [
        "#### **\\### Network Analysis Assignment \\###**\n",
        "Derive how above **Param #** can be achieved.\n",
        "#### **\\### End of Assignment \\###**"
      ]
    },
    {
      "cell_type": "code",
      "execution_count": 23,
      "metadata": {
        "colab": {
          "base_uri": "https://localhost:8080/"
        },
        "id": "ca1emgY2mvxT",
        "outputId": "294f45dc-d9ca-4bb7-fbfa-3214bd4b5991"
      },
      "outputs": [
        {
          "output_type": "stream",
          "name": "stdout",
          "text": [
            "Epoch 1/10\n",
            "\u001b[1m313/313\u001b[0m \u001b[32m━━━━━━━━━━━━━━━━━━━━\u001b[0m\u001b[37m\u001b[0m \u001b[1m0s\u001b[0m 25ms/step - accuracy: 0.5977 - loss: 0.6416\n",
            "Epoch 1: val_accuracy improved from -inf to 0.80560, saving model to GRU_imdb.keras\n",
            "\u001b[1m313/313\u001b[0m \u001b[32m━━━━━━━━━━━━━━━━━━━━\u001b[0m\u001b[37m\u001b[0m \u001b[1m11s\u001b[0m 29ms/step - accuracy: 0.5980 - loss: 0.6413 - val_accuracy: 0.8056 - val_loss: 0.4413\n",
            "Epoch 2/10\n",
            "\u001b[1m313/313\u001b[0m \u001b[32m━━━━━━━━━━━━━━━━━━━━\u001b[0m\u001b[37m\u001b[0m \u001b[1m0s\u001b[0m 25ms/step - accuracy: 0.8518 - loss: 0.3672\n",
            "Epoch 2: val_accuracy did not improve from 0.80560\n",
            "\u001b[1m313/313\u001b[0m \u001b[32m━━━━━━━━━━━━━━━━━━━━\u001b[0m\u001b[37m\u001b[0m \u001b[1m10s\u001b[0m 27ms/step - accuracy: 0.8518 - loss: 0.3672 - val_accuracy: 0.7468 - val_loss: 0.5063\n",
            "Epoch 3/10\n",
            "\u001b[1m313/313\u001b[0m \u001b[32m━━━━━━━━━━━━━━━━━━━━\u001b[0m\u001b[37m\u001b[0m \u001b[1m0s\u001b[0m 23ms/step - accuracy: 0.8973 - loss: 0.2705\n",
            "Epoch 3: val_accuracy improved from 0.80560 to 0.86300, saving model to GRU_imdb.keras\n",
            "\u001b[1m313/313\u001b[0m \u001b[32m━━━━━━━━━━━━━━━━━━━━\u001b[0m\u001b[37m\u001b[0m \u001b[1m10s\u001b[0m 27ms/step - accuracy: 0.8973 - loss: 0.2704 - val_accuracy: 0.8630 - val_loss: 0.3401\n",
            "Epoch 4/10\n",
            "\u001b[1m313/313\u001b[0m \u001b[32m━━━━━━━━━━━━━━━━━━━━\u001b[0m\u001b[37m\u001b[0m \u001b[1m0s\u001b[0m 28ms/step - accuracy: 0.9429 - loss: 0.1673\n",
            "Epoch 4: val_accuracy improved from 0.86300 to 0.86820, saving model to GRU_imdb.keras\n",
            "\u001b[1m313/313\u001b[0m \u001b[32m━━━━━━━━━━━━━━━━━━━━\u001b[0m\u001b[37m\u001b[0m \u001b[1m10s\u001b[0m 31ms/step - accuracy: 0.9429 - loss: 0.1674 - val_accuracy: 0.8682 - val_loss: 0.3982\n",
            "Epoch 5/10\n",
            "\u001b[1m312/313\u001b[0m \u001b[32m━━━━━━━━━━━━━━━━━━━\u001b[0m\u001b[37m━\u001b[0m \u001b[1m0s\u001b[0m 25ms/step - accuracy: 0.9611 - loss: 0.1169\n",
            "Epoch 5: val_accuracy did not improve from 0.86820\n",
            "\u001b[1m313/313\u001b[0m \u001b[32m━━━━━━━━━━━━━━━━━━━━\u001b[0m\u001b[37m\u001b[0m \u001b[1m9s\u001b[0m 27ms/step - accuracy: 0.9611 - loss: 0.1170 - val_accuracy: 0.8456 - val_loss: 0.4982\n",
            "Epoch 6/10\n",
            "\u001b[1m313/313\u001b[0m \u001b[32m━━━━━━━━━━━━━━━━━━━━\u001b[0m\u001b[37m\u001b[0m \u001b[1m0s\u001b[0m 24ms/step - accuracy: 0.9720 - loss: 0.0871\n",
            "Epoch 6: val_accuracy did not improve from 0.86820\n",
            "\u001b[1m313/313\u001b[0m \u001b[32m━━━━━━━━━━━━━━━━━━━━\u001b[0m\u001b[37m\u001b[0m \u001b[1m10s\u001b[0m 27ms/step - accuracy: 0.9720 - loss: 0.0870 - val_accuracy: 0.8560 - val_loss: 0.4847\n",
            "Epoch 7/10\n",
            "\u001b[1m312/313\u001b[0m \u001b[32m━━━━━━━━━━━━━━━━━━━\u001b[0m\u001b[37m━\u001b[0m \u001b[1m0s\u001b[0m 22ms/step - accuracy: 0.9858 - loss: 0.0475\n",
            "Epoch 7: val_accuracy did not improve from 0.86820\n",
            "\u001b[1m313/313\u001b[0m \u001b[32m━━━━━━━━━━━━━━━━━━━━\u001b[0m\u001b[37m\u001b[0m \u001b[1m8s\u001b[0m 25ms/step - accuracy: 0.9858 - loss: 0.0476 - val_accuracy: 0.8608 - val_loss: 0.5870\n",
            "Epoch 7: early stopping\n",
            "[0.5657184720039368, 0.366228312253952, 0.2554053068161011, 0.18423350155353546, 0.12385889887809753, 0.0845220685005188, 0.052828267216682434]\n",
            "[0.6895999908447266, 0.8501499891281128, 0.9028000235557556, 0.9339500069618225, 0.9586499929428101, 0.9728999733924866, 0.9832500219345093]\n"
          ]
        }
      ],
      "source": [
        "n_batch = 64\n",
        "\n",
        "es = keras.callbacks.EarlyStopping(monitor='val_loss', mode='min', verbose=1, patience=4) # prevent overfitting as too many epochs\n",
        "mc = keras.callbacks.ModelCheckpoint('GRU_imdb.keras', monitor='val_accuracy', mode='max', verbose=1, save_best_only=True) #save best state\n",
        "\n",
        "results = model.fit(X_train, y_train,\n",
        "            batch_size=n_batch,\n",
        "            epochs=10,\n",
        "            callbacks=[es, mc],\n",
        "            validation_split=0.2)\n",
        "\n",
        "print(results.history['loss'])\n",
        "print(results.history['accuracy'])"
      ]
    },
    {
      "cell_type": "markdown",
      "metadata": {
        "id": "gxlZtB2CH3M2"
      },
      "source": [
        "Plot Convergence Graph"
      ]
    },
    {
      "cell_type": "code",
      "execution_count": 24,
      "metadata": {
        "colab": {
          "base_uri": "https://localhost:8080/",
          "height": 388
        },
        "id": "Ygu782RNH3M2",
        "outputId": "af154f14-c34c-444a-ac95-aa1c3bdf0bf6"
      },
      "outputs": [
        {
          "output_type": "display_data",
          "data": {
            "text/plain": [
              "<Figure size 1000x400 with 2 Axes>"
            ],
            "image/png": "[encoded data removed]"
          },
          "metadata": {}
        }
      ],
      "source": [
        "# plot loss and accuracy\n",
        "plt.figure(figsize=(10,4))\n",
        "plt.subplot(1,2,1)\n",
        "plt.plot(results.history['loss'], 'b-', label='loss')\n",
        "plt.plot(results.history['val_loss'], 'r-', label='val_loss')\n",
        "plt.xlabel('epoch')\n",
        "plt.legend()\n",
        "\n",
        "plt.subplot(1,2,2)\n",
        "plt.plot(results.history['accuracy'], 'g-', label='accuracy')\n",
        "plt.plot(results.history['val_accuracy'], 'r-', label='val_accuracy')\n",
        "plt.xlabel('epoch')\n",
        "plt.legend()\n",
        "\n",
        "plt.show()"
      ]
    },
    {
      "cell_type": "markdown",
      "metadata": {
        "id": "flTfy4biH3M2"
      },
      "source": [
        "Evaluate the model"
      ]
    },
    {
      "cell_type": "code",
      "execution_count": 25,
      "metadata": {
        "colab": {
          "base_uri": "https://localhost:8080/"
        },
        "id": "0puCM45DmvxT",
        "outputId": "8815633c-8ef6-4db6-c1c6-c89b69d2f767"
      },
      "outputs": [
        {
          "output_type": "stream",
          "name": "stdout",
          "text": [
            "\u001b[1m782/782\u001b[0m \u001b[32m━━━━━━━━━━━━━━━━━━━━\u001b[0m\u001b[37m\u001b[0m \u001b[1m8s\u001b[0m 10ms/step - accuracy: 0.8365 - loss: 0.6809\n"
          ]
        },
        {
          "output_type": "execute_result",
          "data": {
            "text/plain": [
              "[0.6736342906951904, 0.8377599716186523]"
            ]
          },
          "metadata": {},
          "execution_count": 25
        }
      ],
      "source": [
        "# model = keras.models.load_model('GRU_imdb.keras')\n",
        "model.evaluate(X_test, y_test)"
      ]
    },
    {
      "cell_type": "markdown",
      "metadata": {
        "id": "v1JNeoo2H3M3"
      },
      "source": [
        "### Test Model with a random review"
      ]
    },
    {
      "cell_type": "code",
      "execution_count": 27,
      "metadata": {
        "colab": {
          "base_uri": "https://localhost:8080/"
        },
        "id": "s06LpCLCsBfG",
        "outputId": "2c6bc6b3-e45a-41ac-ee75-ba31fbb2106b"
      },
      "outputs": [
        {
          "output_type": "stream",
          "name": "stdout",
          "text": [
            "\u001b[1m1/1\u001b[0m \u001b[32m━━━━━━━━━━━━━━━━━━━━\u001b[0m\u001b[37m\u001b[0m \u001b[1m0s\u001b[0m 23ms/step\n",
            "The bearings of western-style Feminism on the various subcultures of India have hitherto remained largely non-existent, the two entities belonging to alien realms and threatening (in the name of tradition) never to coincide. Art imitates life (or so the claim goes) and popular Hindi cinema is no exception, reflecting an underlying misogyny which, regrettably, forms the foundation of much of the collective Indian culture. But why? What is it about the female gender that has rendered it so hateful to the culture that women are routinely subject to the most unimaginable horrors, including rape, murder, infanticide, imposed illiteracy, infidelity, and the subjugation of spirit that goes under the name of 'dowry'? Rajkumar Santoshi's latest offering, \"Lajja\", asks the same plaintive question, linking the atrocities committed against women through three separate chapters/episodes which comprise the journey of shame endured by its protagonist, Vaidehi (Manisha Koirala).<br /><br />Direction on Santoshi's part is not up to par with the level the story demands. He fails to achieve the necessary sensitivity in depicting the saga of sadness and confronts the issue of misogyny from the side, instead of head-on. Santoshi has recently said that he did not make the film for an international film festival, but rather for the masses of his country. Regrettably, the tackiness shows, and the film too often delves into the action-blood-gore genre that Santoshi specializes in. The film suffers from its jerky, episodic pace and its ending is rather too contrived.<br /><br />The female cast is given much kinder and more rounded characterizations than their male counterparts. The protagonist is played sensitively by the luminescently beautiful Manisha Koirala who proves in Lajja that she is one of our time's more competent leading ladies, and given a proper role and set up, emerges with a truly commendable performance. One wonders how brilliantly she may have shone had the film been made by a director with the appropriate creative intention and appreciation of the issue at hand. Mahima Choudhary puts in a laudable performance and continues to show that she is an untapped talent. Cast as Janki, Madhuri Dixit performs with a never-before-seen fervor and felicity for what truly deserves the name of 'acting.' The role of a street smart performer who finds solace in alcohol and the promise of an unborn child stands as the greatest risk in her cannon of song-n-dance roles which have maintained her marquee status over the past decade. Which leaves the final and most disturbing performance in this would-be feminist saga, that of the ceaselessly talented Rekha. Lajja is Manisha Koirala's film, there can be no doubt about that, but it is Rekha who dominates the proceedings in a performance that digs into your bones and sends echoes of terror through the vestibules of your heart. Rekha dazzles as Ramdulari, foregoing vanity and complacency to deliver a performance that is so replete with authenticity and ingenuity that emotional nudity becomes the mantra of this portion of the film. Comparisons are indeed odious, especially when rendered opposite one of the world's great leading ladies, but in the gracious presence of this reigning screen legend the others fade in her shadow.<br /><br />\"Lajja\" has none of the sophistication of proto-feminist dramas like \"Zubeidaa\", \"Pinjar\", or even the Hell-Queen celebration \"Laadla\": it fulfills its feministic goals in two early moments:the loud tirade in which Mahima berates her in-laws for their abuse of her father who has committed no other crime than given birth to a girl. She erupts, leaving the wedding procession in shambles. Seeing her father devastated, she begins to weep, blaming herself for the chaotic destruction in front of her. She bemoans, \"Why did I say anything? I have ruined everything! It is all my fault!\" Her grandmother, witnessing silently the abuse she bore, comforts her by saying, \"Why are you crying? There is no reason for you to be crying. You are not at fault for anything. The fault is mine. The fault is of every woman who came before you, because if we had had the courage to say in our day what you have said today, there would have been no need for you to say anything today.\" In this scene the importance of the Feminist Legacy is laid plainly in sight through words.<br /><br />The other, more subtle moment comes very early in the film when Vaidehi (Manisha) has fled from her abusive husband to the refuge of her parents' home in India. To viewers of western societies, it may seem perfectly reasonable (indeed, natural) that any abused woman would seek the protective guardianship of her parents; this, however, is a societal taboo in many eastern cultures, India among them. Once a woman has been married, the identity she assumes is that of her husband and his personal assets (family, business, children, etc.) For her to turn her back on these responsibilities is a grave social sin, one which truly has no equivalent for the western woman. She is thereafter regarded as tainted and as 'damaged goods', one whose value has been nullified entirely by her own actions and her refusal to submit to the role she has been given. She is not so much an individual as she is an emblem of familial honor. Her father rebukes her for her actions, concerned that his familial honor will be tarnished irreparably by the daughter he had already transferred to another man. His primary concern is that of the impending marriage of Vaidehi's younger sister, a prospect made far less likely with a divorced elder daughter in the same household. He tells her in no uncertain that she must return to the man to whom she lawfully belongs, however violent and sadistic he may be. He levies against her the age old adage that, \"The honor of every home lies in the hands of its daughter.\" Quietly and pensively, she replies, \"Yes, the honor of every home lies in the hands of its daughter. But there is no honor for the daughter herself.\"\n",
            "The review is Negative in 99.76% \n"
          ]
        }
      ],
      "source": [
        "idx = np.random.randint(X_test.shape[0]) #create random index\n",
        "\n",
        "X_input = tf.reshape(X_test[idx], shape=(1,-1)) #pick one random sampling in test datasets\n",
        "\n",
        "score = float(tf.squeeze(model.predict(X_input))) #save model's predict score\n",
        "\n",
        "decision = 1 if score>0.5 else 0\n",
        "rate = score if decision==1 else (1-score) # Above 0.5, use the score as is, below use 1-score.\n",
        "\n",
        "print(X_test_str[idx])\n",
        "\n",
        "print('The review is', 'Positive' if decision==1 else 'Negative', 'in {:.2f}% '.format(rate*100))"
      ]
    },
    {
      "cell_type": "markdown",
      "metadata": {
        "id": "xvOTxkSbH3M3"
      },
      "source": [
        "(c) 2024 SW Lee"
      ]
    }
  ],
  "metadata": {
    "accelerator": "GPU",
    "colab": {
      "provenance": []
    },
    "interpreter": {
      "hash": "ab0787582b148005e56ebe9aaff49c38c248360ce5fb0676a65b6185761e7c4b"
    },
    "kernelspec": {
      "display_name": "Python 3.9.9 64-bit",
      "language": "python",
      "name": "python3"
    },
    "language_info": {
      "codemirror_mode": {
        "name": "ipython",
        "version": 3
      },
      "file_extension": ".py",
      "mimetype": "text/x-python",
      "name": "python",
      "nbconvert_exporter": "python",
      "pygments_lexer": "ipython3",
      "version": "3.9.9"
    },
    "orig_nbformat": 4
  },
  "nbformat": 4,
  "nbformat_minor": 0
}