{
 "cells": [
  {
   "cell_type": "markdown",
   "metadata": {},
   "source": [
    "AI Programming - SW Lee"
   ]
  },
  {
   "attachments": {},
   "cell_type": "markdown",
   "metadata": {},
   "source": [
    "# Lab 01: Numpy Basic TEST"
   ]
  },
  {
   "cell_type": "markdown",
   "metadata": {},
   "source": [
    "#### Complete the following code segments by finding array3, array4, and array6.\n",
    "- Each array should be determined by a single assignment.\n",
    "- The einsum subscripts must be defined clearly with all possible indexes.\n",
    "- You have to follow the conditions in the comments"
   ]
  },
  {
   "cell_type": "code",
   "execution_count": 1,
   "metadata": {},
   "outputs": [],
   "source": [
    "import numpy as np"
   ]
  },
  {
   "cell_type": "code",
   "execution_count": 20,
   "metadata": {},
   "outputs": [
    {
     "name": "stdout",
     "output_type": "stream",
     "text": [
      "Resulting shape:  (3, 4, 5, 6)\n",
      "All tests passed.\n"
     ]
    }
   ],
   "source": [
    "np.random.seed(0)\n",
    "array1 = np.random.rand(3,4,5,6)\n",
    "array2 = np.random.rand(4,5,6)\n",
    "\n",
    "result = array1 * array2                            # using * operator 3x4x5x6\n",
    "\n",
    "res_dim = result.shape\n",
    "array3 = np.empty_like(result)\n",
    "for i in range(res_dim[0]):\n",
    "    for j in range(res_dim[1]):\n",
    "        for k in range(res_dim[2]):\n",
    "            for l in range(res_dim[3]):\n",
    "                ### START CODE HERE ### \n",
    "                array3[i,j,k,l] = array1[i,j,k,l] * array2[j,k,l]  # Individual element multiplication operations\n",
    "                ###  END CODE HERE  ###\n",
    "\n",
    "### START CODE HERE ###\n",
    "array4 = np.multiply(array1,array2)                                 # use multiply function\n",
    "array5 = np.einsum('ijkl,jkl -> ijkl',array1,array2)                # use einsum\n",
    "###  END CODE HERE  ###\n",
    "\n",
    "print('Resulting shape: ', result.shape); test_passed = True\n",
    "if not np.array_equal(result, array3): \n",
    "    print('Array3 fails the test.'); test_passed = False\n",
    "if not np.array_equal(result, array4): \n",
    "    print('Array4 fails the test.'); test_passed = False\n",
    "if not np.array_equal(result, array5): \n",
    "    print('Array5 fails the test.'); test_passed = False\n",
    "if test_passed: print('All tests passed.')"
   ]
  },
  {
   "cell_type": "code",
   "execution_count": 21,
   "metadata": {},
   "outputs": [
    {
     "name": "stdout",
     "output_type": "stream",
     "text": [
      "Resulting shape:  (5, 4, 3, 2)\n",
      "All tests passed.\n"
     ]
    }
   ],
   "source": [
    "np.random.seed(0)\n",
    "array1 = np.random.rand(2,3,4,5)\n",
    "\n",
    "result = array1.T                                   # using T attribute 5x4x3x2\n",
    "\n",
    "res_dim = result.shape\n",
    "array3 = np.empty_like(result)\n",
    "for i in range(res_dim[0]):\n",
    "    for j in range(res_dim[1]):\n",
    "        for k in range(res_dim[2]):\n",
    "            for l in range(res_dim[3]):\n",
    "                ### START CODE HERE ###\n",
    "                array3[i,j,k,l] = array1[l,k,j,i]   # Individual element transpose\n",
    "                ### END CODE HERE ###\n",
    "\n",
    "### START CODE HERE ###\n",
    "array4 = np.transpose(array1)                                           # use transpose function\n",
    "array5 = np.einsum('ijkl->lkji',array1)                                 # use einsum\n",
    "### END CODE HERE ###\n",
    "\n",
    "print('Resulting shape: ', result.shape); test_passed = True\n",
    "if not np.array_equal(result, array3): \n",
    "    print('Array3 fails the test.'); test_passed = False\n",
    "if not np.array_equal(result, array4): \n",
    "    print('Array4 fails the test.'); test_passed = False\n",
    "if not np.array_equal(result, array5): \n",
    "    print('Array5 fails the test.'); test_passed = False\n",
    "if test_passed: print('All tests passed.')"
   ]
  },
  {
   "cell_type": "code",
   "execution_count": 22,
   "metadata": {},
   "outputs": [
    {
     "name": "stdout",
     "output_type": "stream",
     "text": [
      "Resulting shape:  (3, 7, 5)\n",
      "All tests passed.\n"
     ]
    }
   ],
   "source": [
    "np.random.seed(0)\n",
    "array1 = np.random.rand(3,7,6)\n",
    "array2 = np.random.rand(3,6,5)\n",
    "\n",
    "result = array1 @ array2                            # using @ operator 3x7x5\n",
    "\n",
    "res_dim = result.shape\n",
    "array3 = np.empty_like(result)\n",
    "for i in range(res_dim[0]):\n",
    "    for j in range(res_dim[1]):\n",
    "        for k in range(res_dim[2]):\n",
    "            ### START CODE HERE ###\n",
    "            array3[i,j,k] = array1[i,j,:] @ array2[i,:,k] # Individual element matrix multiply   \n",
    "            ###  END CODE HERE  ###\n",
    "\n",
    "### START CODE HERE ###\n",
    "array4 = np.matmul(array1,array2)                                           # use matmul function\n",
    "array5 = np.einsum('ijk,ikm -> ijm',array1,array2)                          # use einsum\n",
    "###  END CODE HERE  ###\n",
    "\n",
    "print('Resulting shape: ', result.shape); test_passed = True\n",
    "if not np.allclose(result, array3): \n",
    "    print('Array3 fails the test.'); test_passed = False\n",
    "if not np.array_equal(result, array4): \n",
    "    print('Array4 fails the test.'); test_passed = False\n",
    "if not np.allclose(result, array5): \n",
    "    print('Array5 fails the test.'); test_passed = False\n",
    "if test_passed: print('All tests passed.')"
   ]
  },
  {
   "cell_type": "code",
   "execution_count": 23,
   "metadata": {},
   "outputs": [
    {
     "name": "stdout",
     "output_type": "stream",
     "text": [
      "Resulting shape:  (3, 7, 5)\n",
      "All tests passed.\n"
     ]
    }
   ],
   "source": [
    "np.random.seed(0)\n",
    "array1 = np.random.rand(3,7,6)\n",
    "array2 = np.random.rand(5,6)\n",
    "\n",
    "result = array1 @ array2.T                          # using @ operator and T attribute\n",
    "\n",
    "array2 = array2.reshape(1,5,6)                      # same array but one more higher dimension\n",
    "\n",
    "res_dim = result.shape\n",
    "array3 = np.empty_like(result)\n",
    "for i in range(res_dim[0]):\n",
    "    for j in range(res_dim[1]):\n",
    "        for k in range(res_dim[2]):\n",
    "            ### START CODE HERE ###\n",
    "            array3[i,j,k] = array1[i,j,:] @ array2.T[:,k,:]   # 3x7x6 , 6x5x1 Individual element matrix multiply \n",
    "            ###  END CODE HERE  ###\n",
    "\n",
    "### START CODE HERE ###\n",
    "array4 = np.matmul(array1,np.transpose(array2,(0,2,1)))                                        # use matmul and transpose; 3x7x6 @ 1x6x5\n",
    "array5 = np.einsum('ijk,mk -> ijm',array1,array2[0])                                           # use einsum\n",
    "###  END CODE HERE  ###\n",
    "\n",
    "print('Resulting shape: ', result.shape); test_passed = True\n",
    "if not np.allclose(result, array3): \n",
    "    print('Array3 fails the test.'); test_passed = False\n",
    "if not np.array_equal(result, array4): \n",
    "    print('Array4 fails the test.'); test_passed = False\n",
    "if not np.allclose(result, array5): \n",
    "    print('Array5 fails the test.'); test_passed = False\n",
    "if test_passed: print('All tests passed.')"
   ]
  },
  {
   "cell_type": "code",
   "execution_count": 24,
   "metadata": {},
   "outputs": [
    {
     "name": "stdout",
     "output_type": "stream",
     "text": [
      "Resulting shape:  (3, 5, 6)\n",
      "All tests passed.\n"
     ]
    }
   ],
   "source": [
    "np.random.seed(0)\n",
    "array1 = np.random.rand(3,5,6)\n",
    "array2 = np.random.rand(5)  \n",
    "\n",
    "# to make the following addition work\n",
    "# result = array1 + array2\n",
    "# array2 must be broadcasted to shape of (3,5,6)\n",
    "\n",
    "res_dim = array1.shape\n",
    "result = np.empty(res_dim)\n",
    "for i in range(res_dim[0]):\n",
    "    for j in range(res_dim[1]):\n",
    "        for k in range(res_dim[2]):\n",
    "            result[i,j,k] = array1[i,j,k] + array2[j]  # Individual element broadcasting\n",
    "\n",
    "### START CODE HERE ###\n",
    "array3 = array1 + np.reshape(array2,(1,-1,1))           # make + operation possible with column broadcasting and add axis\n",
    "###  END CODE HERE  ###\n",
    "\n",
    "print('Resulting shape: ', result.shape); test_passed = True\n",
    "if not np.array_equal(result, array3): \n",
    "    print('Array3 fails the test.'); test_passed = False\n",
    "if test_passed: print('All tests passed.')"
   ]
  },
  {
   "cell_type": "code",
   "execution_count": 25,
   "metadata": {},
   "outputs": [
    {
     "name": "stdout",
     "output_type": "stream",
     "text": [
      "Resulting shape:  (3, 5)\n",
      "All tests passed.\n"
     ]
    }
   ],
   "source": [
    "np.random.seed(0)\n",
    "array1 = np.random.rand(3,5,6)\n",
    "array2 = np.random.rand(6,1)\n",
    "\n",
    "# in mathamtics, multiplying a multi-dimensional matrix and a column vector \n",
    "# removes the last dimension of the matrix.\n",
    "# but numpy does not work that way. make the correction.\n",
    "\n",
    "res_dim = array1.shape[0:2]\n",
    "result = np.empty(res_dim)\n",
    "for i in range(res_dim[0]):\n",
    "    for j in range(res_dim[1]):\n",
    "        result[i,j] = np.sum(array1[i,j,:] * array2[:,0])  # Individual element multiply and summation\n",
    "\n",
    "### START CODE HERE ###\n",
    "array3 = np.matmul(array1,np.squeeze(array2,axis=1))                                           # use matmul and squeeze axis 1\n",
    "###  END CODE HERE  ###\n",
    "\n",
    "print('Resulting shape: ', result.shape); test_passed = True\n",
    "if not np.allclose(result, array3): \n",
    "    print('Array3 fails the test.'); test_passed = False\n",
    "if test_passed: print('All tests passed.')"
   ]
  },
  {
   "cell_type": "code",
   "execution_count": 26,
   "metadata": {},
   "outputs": [
    {
     "name": "stdout",
     "output_type": "stream",
     "text": [
      "Resulting shape:  (3, 7, 4, 5)\n",
      "All tests passed.\n"
     ]
    }
   ],
   "source": [
    "np.random.seed(0)\n",
    "array1 = np.random.rand(3,7,6)\n",
    "array2 = np.random.rand(4,6,5)\n",
    "\n",
    "result = np.dot(array1, array2)                     # using dot function 3x7x4x5\n",
    "\n",
    "res_dim = result.shape\n",
    "array3 = np.empty_like(result)\n",
    "for i in range(res_dim[0]):\n",
    "    for j in range(res_dim[1]):\n",
    "        for k in range(res_dim[2]):\n",
    "            for l in range(res_dim[3]):\n",
    "                ### START CODE HERE ###\n",
    "                array3[i,j,k,l] = array1[i,j,:] @ array2[k,:,l] #Individual element matrix multiply \n",
    "                ###  END CODE HERE  ###\n",
    "\n",
    "array4 = np.empty_like(result)\n",
    "for i in range(res_dim[2]):\n",
    "    ### START CODE HERE ###\n",
    "    array4[:,:,i,:] = array1 @ array2[i,:,:]                                  # use @ operator with matrix axis=2\n",
    "    ###  END CODE HERE  ###\n",
    "\n",
    "### START CODE HERE ###\n",
    "array5 = np.einsum('ijm,kml -> ijkl',array1,array2)                                           # use einsum\n",
    "###  END CODE HERE  ###\n",
    "\n",
    "print('Resulting shape: ', result.shape); test_passed = True\n",
    "if not np.allclose(result, array3): \n",
    "    print('Array3 fails the test.'); test_passed = False\n",
    "if not np.allclose(result, array4): \n",
    "    print('Array4 fails the test.'); test_passed = False\n",
    "if not np.allclose(result, array5): \n",
    "    print('Array5 fails the test.'); test_passed = False\n",
    "if test_passed: print('All tests passed.')"
   ]
  },
  {
   "cell_type": "code",
   "execution_count": 27,
   "metadata": {},
   "outputs": [
    {
     "name": "stdout",
     "output_type": "stream",
     "text": [
      "Resulting shape:  (3, 5, 4, 3)\n",
      "All tests passed.\n"
     ]
    }
   ],
   "source": [
    "np.random.seed(0)\n",
    "array1 = np.random.rand(3,5,6)\n",
    "array2 = np.random.rand(4,3,6)\n",
    "\n",
    "result = np.inner(array1, array2)                   # using inner function\n",
    "\n",
    "res_dim = (3,5,4,3)\n",
    "array3 = np.empty(res_dim)\n",
    "for i in range(res_dim[0]):\n",
    "    for j in range(res_dim[1]):\n",
    "        for k in range(res_dim[2]):\n",
    "            for l in range(res_dim[3]):\n",
    "                ### START CODE HERE ###\n",
    "                array3[i,j,k,l] = array1[i,j,:] @ array2[k,l,:]  #Individual element inner operation with matrix multiply\n",
    "                ### END CODE HERE ###\n",
    "\n",
    "### START CODE HERE ###\n",
    "array4 = np.dot(array1,np.transpose(array2,(0,2,1)))                                           # use dot and transpose\n",
    "array5 = np.einsum('ijm,klm -> ijkl',array1,array2)                                           # use einsum\n",
    "###  END CODE HERE  ###\n",
    "\n",
    "print('Resulting shape: ', result.shape); test_passed = True\n",
    "if not np.array_equal(result, array3): \n",
    "    print('Array3 fails the test.'); test_passed = False\n",
    "if not np.array_equal(result, array4): \n",
    "    print('Array4 fails the test.'); test_passed = False\n",
    "if not np.allclose(result, array5): \n",
    "    print('Array5 fails the test.'); test_passed = False\n",
    "if test_passed: print('All tests passed.')"
   ]
  },
  {
   "cell_type": "code",
   "execution_count": 28,
   "metadata": {},
   "outputs": [
    {
     "name": "stdout",
     "output_type": "stream",
     "text": [
      "Resulting shape:  (24,)\n",
      "All tests passed.\n"
     ]
    }
   ],
   "source": [
    "array1 = np.array([ 0, 12,  4, 16,  8, 20,  1, 13,  5, 17,  9, 21,  2, 14,  6, 18, 10, 22,  3, 15,  7, 19, 11, 23])\n",
    "\n",
    "result = np.array([ 0,  1,  2,  3,  4,  5,  6,  7,  8,  9, 10, 11, 12, 13, 14, 15, 16, 17, 18, 19, 20, 21, 22, 23])\n",
    "\n",
    "### START CODE HERE ###\n",
    "array2 = np.reshape(np.transpose(np.reshape(array1,(4,3,2)),(2,1,0)),(24))          # reshape -> transpose -> flatten\n",
    "###  END CODE HERE  ###\n",
    "\n",
    "print('Resulting shape: ', result.shape); test_passed = True\n",
    "if not np.array_equal(result, array2): \n",
    "    print('Array2 fails the test.'); test_passed = False\n",
    "if test_passed: print('All tests passed.')"
   ]
  },
  {
   "cell_type": "code",
   "execution_count": 29,
   "metadata": {},
   "outputs": [
    {
     "name": "stdout",
     "output_type": "stream",
     "text": [
      "Resulting shape:  (4, 4)\n",
      "All tests passed.\n"
     ]
    }
   ],
   "source": [
    "array1 = np.array([1., 2., 3., 4.])\n",
    "\n",
    "result = np.array([[1., 0., 0., 0.], [0., 2., 0., 0.], [0., 0., 3., 0.], [0., 0., 0., 4.]])\n",
    "\n",
    "### START CODE HERE ###\n",
    "array2 = np.eye(4)*array1                                           # use eye x array1\n",
    "###  END CODE HERE  ###\n",
    "\n",
    "print('Resulting shape: ', result.shape); test_passed = True\n",
    "if not np.array_equal(result, array2): \n",
    "    print('Array2 fails the test.'); test_passed = False\n",
    "if test_passed: print('All tests passed.')"
   ]
  },
  {
   "cell_type": "markdown",
   "metadata": {},
   "source": [
    "(c) 2024 SW Lee"
   ]
  }
 ],
 "metadata": {
  "kernelspec": {
   "display_name": "Python 3 (ipykernel)",
   "language": "python",
   "name": "python3"
  },
  "language_info": {
   "codemirror_mode": {
    "name": "ipython",
    "version": 3
   },
   "file_extension": ".py",
   "mimetype": "text/x-python",
   "name": "python",
   "nbconvert_exporter": "python",
   "pygments_lexer": "ipython3",
   "version": "3.9.19"
  },
  "vscode": {
   "interpreter": {
    "hash": "71930d9c743a2c2f7d41567bb1e631f1d30be1b0f7ff3429fb86acce8edbed56"
   }
  }
 },
 "nbformat": 4,
 "nbformat_minor": 4
}
